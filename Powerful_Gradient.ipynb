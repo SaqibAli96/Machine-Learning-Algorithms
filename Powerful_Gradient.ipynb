{
 "cells": [
  {
   "cell_type": "code",
   "execution_count": 1,
   "metadata": {
    "id": "KTZiHSwcC5n8"
   },
   "outputs": [],
   "source": [
    "import numpy as np\n",
    "import pandas as pd\n",
    "import matplotlib.pyplot as plt\n",
    "import seaborn as sns\n",
    "\n",
    "import warnings\n",
    "warnings.filterwarnings(\"ignore\")"
   ]
  },
  {
   "cell_type": "code",
   "execution_count": 2,
   "metadata": {
    "id": "wAVi412rC5oK"
   },
   "outputs": [],
   "source": [
    "df = pd.read_csv('C:\\\\Users\\\\Sakib\\\\Desktop\\\\New_folder\\\\stinson_insurance.csv')"
   ]
  },
  {
   "cell_type": "code",
   "execution_count": null,
   "metadata": {
    "id": "P-po-QRVEXTr"
   },
   "outputs": [],
   "source": []
  },
  {
   "cell_type": "code",
   "execution_count": 3,
   "metadata": {
    "colab": {
     "base_uri": "https://localhost:8080/",
     "height": 309
    },
    "id": "ieLPc5cgC5oN",
    "outputId": "d4f5a210-309b-4a02-a129-15f88ecac6ae"
   },
   "outputs": [
    {
     "data": {
      "text/html": [
       "<div>\n",
       "<style scoped>\n",
       "    .dataframe tbody tr th:only-of-type {\n",
       "        vertical-align: middle;\n",
       "    }\n",
       "\n",
       "    .dataframe tbody tr th {\n",
       "        vertical-align: top;\n",
       "    }\n",
       "\n",
       "    .dataframe thead th {\n",
       "        text-align: right;\n",
       "    }\n",
       "</style>\n",
       "<table border=\"1\" class=\"dataframe\">\n",
       "  <thead>\n",
       "    <tr style=\"text-align: right;\">\n",
       "      <th></th>\n",
       "      <th>id</th>\n",
       "      <th>age</th>\n",
       "      <th>gender</th>\n",
       "      <th>race</th>\n",
       "      <th>driving_experience</th>\n",
       "      <th>education</th>\n",
       "      <th>income</th>\n",
       "      <th>credit_score</th>\n",
       "      <th>vehicle_ownership</th>\n",
       "      <th>vehicle_year</th>\n",
       "      <th>married</th>\n",
       "      <th>children</th>\n",
       "      <th>postal_code</th>\n",
       "      <th>annual_mileage</th>\n",
       "      <th>vehicle_type</th>\n",
       "      <th>speeding_violations</th>\n",
       "      <th>DUIs</th>\n",
       "      <th>past_accidents</th>\n",
       "      <th>outcome</th>\n",
       "    </tr>\n",
       "  </thead>\n",
       "  <tbody>\n",
       "    <tr>\n",
       "      <th>0</th>\n",
       "      <td>569520</td>\n",
       "      <td>65+</td>\n",
       "      <td>female</td>\n",
       "      <td>majority</td>\n",
       "      <td>0-9y</td>\n",
       "      <td>high school</td>\n",
       "      <td>upper class</td>\n",
       "      <td>0.629027</td>\n",
       "      <td>True</td>\n",
       "      <td>after 2015</td>\n",
       "      <td>False</td>\n",
       "      <td>True</td>\n",
       "      <td>10238</td>\n",
       "      <td>12000.0</td>\n",
       "      <td>sedan</td>\n",
       "      <td>0</td>\n",
       "      <td>0</td>\n",
       "      <td>0</td>\n",
       "      <td>False</td>\n",
       "    </tr>\n",
       "    <tr>\n",
       "      <th>1</th>\n",
       "      <td>750365</td>\n",
       "      <td>16-25</td>\n",
       "      <td>male</td>\n",
       "      <td>majority</td>\n",
       "      <td>0-9y</td>\n",
       "      <td>none</td>\n",
       "      <td>poverty</td>\n",
       "      <td>0.357757</td>\n",
       "      <td>False</td>\n",
       "      <td>before 2015</td>\n",
       "      <td>False</td>\n",
       "      <td>False</td>\n",
       "      <td>10238</td>\n",
       "      <td>16000.0</td>\n",
       "      <td>sedan</td>\n",
       "      <td>0</td>\n",
       "      <td>0</td>\n",
       "      <td>0</td>\n",
       "      <td>True</td>\n",
       "    </tr>\n",
       "    <tr>\n",
       "      <th>2</th>\n",
       "      <td>199901</td>\n",
       "      <td>16-25</td>\n",
       "      <td>female</td>\n",
       "      <td>majority</td>\n",
       "      <td>0-9y</td>\n",
       "      <td>high school</td>\n",
       "      <td>working class</td>\n",
       "      <td>0.493146</td>\n",
       "      <td>True</td>\n",
       "      <td>before 2015</td>\n",
       "      <td>False</td>\n",
       "      <td>False</td>\n",
       "      <td>10238</td>\n",
       "      <td>11000.0</td>\n",
       "      <td>sedan</td>\n",
       "      <td>0</td>\n",
       "      <td>0</td>\n",
       "      <td>0</td>\n",
       "      <td>False</td>\n",
       "    </tr>\n",
       "    <tr>\n",
       "      <th>3</th>\n",
       "      <td>478866</td>\n",
       "      <td>16-25</td>\n",
       "      <td>male</td>\n",
       "      <td>majority</td>\n",
       "      <td>0-9y</td>\n",
       "      <td>university</td>\n",
       "      <td>working class</td>\n",
       "      <td>0.206013</td>\n",
       "      <td>True</td>\n",
       "      <td>before 2015</td>\n",
       "      <td>False</td>\n",
       "      <td>True</td>\n",
       "      <td>32765</td>\n",
       "      <td>11000.0</td>\n",
       "      <td>sedan</td>\n",
       "      <td>0</td>\n",
       "      <td>0</td>\n",
       "      <td>0</td>\n",
       "      <td>False</td>\n",
       "    </tr>\n",
       "    <tr>\n",
       "      <th>4</th>\n",
       "      <td>731664</td>\n",
       "      <td>26-39</td>\n",
       "      <td>male</td>\n",
       "      <td>majority</td>\n",
       "      <td>10-19y</td>\n",
       "      <td>none</td>\n",
       "      <td>working class</td>\n",
       "      <td>0.388366</td>\n",
       "      <td>True</td>\n",
       "      <td>before 2015</td>\n",
       "      <td>False</td>\n",
       "      <td>False</td>\n",
       "      <td>32765</td>\n",
       "      <td>12000.0</td>\n",
       "      <td>sedan</td>\n",
       "      <td>2</td>\n",
       "      <td>0</td>\n",
       "      <td>1</td>\n",
       "      <td>True</td>\n",
       "    </tr>\n",
       "  </tbody>\n",
       "</table>\n",
       "</div>"
      ],
      "text/plain": [
       "       id    age  gender      race driving_experience    education  \\\n",
       "0  569520    65+  female  majority               0-9y  high school   \n",
       "1  750365  16-25    male  majority               0-9y         none   \n",
       "2  199901  16-25  female  majority               0-9y  high school   \n",
       "3  478866  16-25    male  majority               0-9y   university   \n",
       "4  731664  26-39    male  majority             10-19y         none   \n",
       "\n",
       "          income  credit_score  vehicle_ownership vehicle_year  married  \\\n",
       "0    upper class      0.629027               True   after 2015    False   \n",
       "1        poverty      0.357757              False  before 2015    False   \n",
       "2  working class      0.493146               True  before 2015    False   \n",
       "3  working class      0.206013               True  before 2015    False   \n",
       "4  working class      0.388366               True  before 2015    False   \n",
       "\n",
       "   children  postal_code  annual_mileage vehicle_type  speeding_violations  \\\n",
       "0      True        10238         12000.0        sedan                    0   \n",
       "1     False        10238         16000.0        sedan                    0   \n",
       "2     False        10238         11000.0        sedan                    0   \n",
       "3      True        32765         11000.0        sedan                    0   \n",
       "4     False        32765         12000.0        sedan                    2   \n",
       "\n",
       "   DUIs  past_accidents  outcome  \n",
       "0     0               0    False  \n",
       "1     0               0     True  \n",
       "2     0               0    False  \n",
       "3     0               0    False  \n",
       "4     0               1     True  "
      ]
     },
     "execution_count": 3,
     "metadata": {},
     "output_type": "execute_result"
    }
   ],
   "source": [
    "df.head()"
   ]
  },
  {
   "cell_type": "code",
   "execution_count": 4,
   "metadata": {
    "colab": {
     "base_uri": "https://localhost:8080/"
    },
    "id": "Lv3oi9c5C5oP",
    "outputId": "16c37f66-febd-4cd6-f18d-095e40eac66c"
   },
   "outputs": [
    {
     "name": "stdout",
     "output_type": "stream",
     "text": [
      "<class 'pandas.core.frame.DataFrame'>\n",
      "RangeIndex: 10000 entries, 0 to 9999\n",
      "Data columns (total 19 columns):\n",
      " #   Column               Non-Null Count  Dtype  \n",
      "---  ------               --------------  -----  \n",
      " 0   id                   10000 non-null  int64  \n",
      " 1   age                  10000 non-null  object \n",
      " 2   gender               10000 non-null  object \n",
      " 3   race                 10000 non-null  object \n",
      " 4   driving_experience   10000 non-null  object \n",
      " 5   education            10000 non-null  object \n",
      " 6   income               10000 non-null  object \n",
      " 7   credit_score         9018 non-null   float64\n",
      " 8   vehicle_ownership    10000 non-null  bool   \n",
      " 9   vehicle_year         10000 non-null  object \n",
      " 10  married              10000 non-null  bool   \n",
      " 11  children             10000 non-null  bool   \n",
      " 12  postal_code          10000 non-null  int64  \n",
      " 13  annual_mileage       9043 non-null   float64\n",
      " 14  vehicle_type         10000 non-null  object \n",
      " 15  speeding_violations  10000 non-null  int64  \n",
      " 16  DUIs                 10000 non-null  int64  \n",
      " 17  past_accidents       10000 non-null  int64  \n",
      " 18  outcome              10000 non-null  bool   \n",
      "dtypes: bool(4), float64(2), int64(5), object(8)\n",
      "memory usage: 1.2+ MB\n"
     ]
    }
   ],
   "source": [
    "df.info()"
   ]
  },
  {
   "cell_type": "code",
   "execution_count": null,
   "metadata": {
    "id": "TPq7hjUjC5oQ"
   },
   "outputs": [],
   "source": []
  },
  {
   "cell_type": "code",
   "execution_count": 5,
   "metadata": {
    "colab": {
     "base_uri": "https://localhost:8080/",
     "height": 297
    },
    "id": "2PqGzemwC5oR",
    "outputId": "193db5e7-a5b7-4c25-e25a-561a35da464a"
   },
   "outputs": [
    {
     "data": {
      "text/html": [
       "<div>\n",
       "<style scoped>\n",
       "    .dataframe tbody tr th:only-of-type {\n",
       "        vertical-align: middle;\n",
       "    }\n",
       "\n",
       "    .dataframe tbody tr th {\n",
       "        vertical-align: top;\n",
       "    }\n",
       "\n",
       "    .dataframe thead th {\n",
       "        text-align: right;\n",
       "    }\n",
       "</style>\n",
       "<table border=\"1\" class=\"dataframe\">\n",
       "  <thead>\n",
       "    <tr style=\"text-align: right;\">\n",
       "      <th></th>\n",
       "      <th>id</th>\n",
       "      <th>credit_score</th>\n",
       "      <th>postal_code</th>\n",
       "      <th>annual_mileage</th>\n",
       "      <th>speeding_violations</th>\n",
       "      <th>DUIs</th>\n",
       "      <th>past_accidents</th>\n",
       "    </tr>\n",
       "  </thead>\n",
       "  <tbody>\n",
       "    <tr>\n",
       "      <th>count</th>\n",
       "      <td>10000.000000</td>\n",
       "      <td>9018.000000</td>\n",
       "      <td>10000.000000</td>\n",
       "      <td>9043.000000</td>\n",
       "      <td>10000.000000</td>\n",
       "      <td>10000.00000</td>\n",
       "      <td>10000.000000</td>\n",
       "    </tr>\n",
       "    <tr>\n",
       "      <th>mean</th>\n",
       "      <td>500521.906800</td>\n",
       "      <td>0.515813</td>\n",
       "      <td>19864.548400</td>\n",
       "      <td>11697.003207</td>\n",
       "      <td>1.482900</td>\n",
       "      <td>0.23920</td>\n",
       "      <td>1.056300</td>\n",
       "    </tr>\n",
       "    <tr>\n",
       "      <th>std</th>\n",
       "      <td>290030.768758</td>\n",
       "      <td>0.137688</td>\n",
       "      <td>18915.613855</td>\n",
       "      <td>2818.434528</td>\n",
       "      <td>2.241966</td>\n",
       "      <td>0.55499</td>\n",
       "      <td>1.652454</td>\n",
       "    </tr>\n",
       "    <tr>\n",
       "      <th>min</th>\n",
       "      <td>101.000000</td>\n",
       "      <td>0.053358</td>\n",
       "      <td>10238.000000</td>\n",
       "      <td>2000.000000</td>\n",
       "      <td>0.000000</td>\n",
       "      <td>0.00000</td>\n",
       "      <td>0.000000</td>\n",
       "    </tr>\n",
       "    <tr>\n",
       "      <th>25%</th>\n",
       "      <td>249638.500000</td>\n",
       "      <td>0.417191</td>\n",
       "      <td>10238.000000</td>\n",
       "      <td>10000.000000</td>\n",
       "      <td>0.000000</td>\n",
       "      <td>0.00000</td>\n",
       "      <td>0.000000</td>\n",
       "    </tr>\n",
       "    <tr>\n",
       "      <th>50%</th>\n",
       "      <td>501777.000000</td>\n",
       "      <td>0.525033</td>\n",
       "      <td>10238.000000</td>\n",
       "      <td>12000.000000</td>\n",
       "      <td>0.000000</td>\n",
       "      <td>0.00000</td>\n",
       "      <td>0.000000</td>\n",
       "    </tr>\n",
       "    <tr>\n",
       "      <th>75%</th>\n",
       "      <td>753974.500000</td>\n",
       "      <td>0.618312</td>\n",
       "      <td>32765.000000</td>\n",
       "      <td>14000.000000</td>\n",
       "      <td>2.000000</td>\n",
       "      <td>0.00000</td>\n",
       "      <td>2.000000</td>\n",
       "    </tr>\n",
       "    <tr>\n",
       "      <th>max</th>\n",
       "      <td>999976.000000</td>\n",
       "      <td>0.960819</td>\n",
       "      <td>92101.000000</td>\n",
       "      <td>22000.000000</td>\n",
       "      <td>22.000000</td>\n",
       "      <td>6.00000</td>\n",
       "      <td>15.000000</td>\n",
       "    </tr>\n",
       "  </tbody>\n",
       "</table>\n",
       "</div>"
      ],
      "text/plain": [
       "                  id  credit_score   postal_code  annual_mileage  \\\n",
       "count   10000.000000   9018.000000  10000.000000     9043.000000   \n",
       "mean   500521.906800      0.515813  19864.548400    11697.003207   \n",
       "std    290030.768758      0.137688  18915.613855     2818.434528   \n",
       "min       101.000000      0.053358  10238.000000     2000.000000   \n",
       "25%    249638.500000      0.417191  10238.000000    10000.000000   \n",
       "50%    501777.000000      0.525033  10238.000000    12000.000000   \n",
       "75%    753974.500000      0.618312  32765.000000    14000.000000   \n",
       "max    999976.000000      0.960819  92101.000000    22000.000000   \n",
       "\n",
       "       speeding_violations         DUIs  past_accidents  \n",
       "count         10000.000000  10000.00000    10000.000000  \n",
       "mean              1.482900      0.23920        1.056300  \n",
       "std               2.241966      0.55499        1.652454  \n",
       "min               0.000000      0.00000        0.000000  \n",
       "25%               0.000000      0.00000        0.000000  \n",
       "50%               0.000000      0.00000        0.000000  \n",
       "75%               2.000000      0.00000        2.000000  \n",
       "max              22.000000      6.00000       15.000000  "
      ]
     },
     "execution_count": 5,
     "metadata": {},
     "output_type": "execute_result"
    }
   ],
   "source": [
    "df.describe()"
   ]
  },
  {
   "cell_type": "markdown",
   "metadata": {
    "id": "6tI6yYZmC5oS"
   },
   "source": [
    "***Exploring the Data****"
   ]
  },
  {
   "cell_type": "code",
   "execution_count": 6,
   "metadata": {
    "id": "53WjJEAtC5oT"
   },
   "outputs": [],
   "source": [
    "##Checking skewness in dataset\n",
    "from scipy.stats import skew"
   ]
  },
  {
   "cell_type": "code",
   "execution_count": 7,
   "metadata": {
    "colab": {
     "base_uri": "https://localhost:8080/",
     "height": 1000
    },
    "id": "L3C9eiPPC5oV",
    "outputId": "9e3c149f-587d-4708-d6fc-e181e5b3f9ff"
   },
   "outputs": [
    {
     "name": "stdout",
     "output_type": "stream",
     "text": [
      "id -0.011317855004738102\n"
     ]
    },
    {
     "data": {
      "image/png": "[encoded data removed]",
      "text/plain": [
       "<Figure size 432x288 with 1 Axes>"
      ]
     },
     "metadata": {
      "needs_background": "light"
     },
     "output_type": "display_data"
    },
    {
     "name": "stdout",
     "output_type": "stream",
     "text": [
      "credit_score nan\n"
     ]
    },
    {
     "data": {
      "image/png": "[encoded data removed]",
      "text/plain": [
       "<Figure size 432x288 with 1 Axes>"
      ]
     },
     "metadata": {
      "needs_background": "light"
     },
     "output_type": "display_data"
    },
    {
     "name": "stdout",
     "output_type": "stream",
     "text": [
      "vehicle_ownership -0.8573507231924032\n"
     ]
    },
    {
     "data": {
      "image/png": "[encoded data removed]",
      "text/plain": [
       "<Figure size 432x288 with 1 Axes>"
      ]
     },
     "metadata": {
      "needs_background": "light"
     },
     "output_type": "display_data"
    },
    {
     "name": "stdout",
     "output_type": "stream",
     "text": [
      "married 0.007200046656453782\n"
     ]
    },
    {
     "data": {
      "image/png": "[encoded data removed]",
      "text/plain": [
       "<Figure size 432x288 with 1 Axes>"
      ]
     },
     "metadata": {
      "needs_background": "light"
     },
     "output_type": "display_data"
    },
    {
     "name": "stdout",
     "output_type": "stream",
     "text": [
      "children -0.8155782252748877\n"
     ]
    },
    {
     "data": {
      "image/png": "[encoded data removed]",
      "text/plain": [
       "<Figure size 432x288 with 1 Axes>"
      ]
     },
     "metadata": {
      "needs_background": "light"
     },
     "output_type": "display_data"
    },
    {
     "name": "stdout",
     "output_type": "stream",
     "text": [
      "postal_code 2.6824245002930094\n"
     ]
    },
    {
     "data": {
      "image/png": "[encoded data removed]",
      "text/plain": [
       "<Figure size 432x288 with 1 Axes>"
      ]
     },
     "metadata": {
      "needs_background": "light"
     },
     "output_type": "display_data"
    },
    {
     "name": "stdout",
     "output_type": "stream",
     "text": [
      "annual_mileage nan\n"
     ]
    },
    {
     "data": {
      "image/png": "[encoded data removed]",
      "text/plain": [
       "<Figure size 432x288 with 1 Axes>"
      ]
     },
     "metadata": {
      "needs_background": "light"
     },
     "output_type": "display_data"
    },
    {
     "name": "stdout",
     "output_type": "stream",
     "text": [
      "speeding_violations 2.3651045985758894\n"
     ]
    },
    {
     "data": {
      "image/png": "[encoded data removed]",
      "text/plain": [
       "<Figure size 432x288 with 1 Axes>"
      ]
     },
     "metadata": {
      "needs_background": "light"
     },
     "output_type": "display_data"
    },
    {
     "name": "stdout",
     "output_type": "stream",
     "text": [
      "DUIs 2.7574718966502405\n"
     ]
    },
    {
     "data": {
      "image/png": "[encoded data removed]",
      "text/plain": [
       "<Figure size 432x288 with 1 Axes>"
      ]
     },
     "metadata": {
      "needs_background": "light"
     },
     "output_type": "display_data"
    },
    {
     "name": "stdout",
     "output_type": "stream",
     "text": [
      "past_accidents 2.148626410339331\n"
     ]
    },
    {
     "data": {
      "image/png": "[encoded data removed]",
      "text/plain": [
       "<Figure size 432x288 with 1 Axes>"
      ]
     },
     "metadata": {
      "needs_background": "light"
     },
     "output_type": "display_data"
    },
    {
     "name": "stdout",
     "output_type": "stream",
     "text": [
      "outcome 0.8050272705443443\n"
     ]
    },
    {
     "data": {
      "image/png": "[encoded data removed]",
      "text/plain": [
       "<Figure size 432x288 with 1 Axes>"
      ]
     },
     "metadata": {
      "needs_background": "light"
     },
     "output_type": "display_data"
    }
   ],
   "source": [
    "for col in df:\n",
    "    if df[col].dtypes != 'O':\n",
    "        print(col,skew(df[col]))\n",
    "        plt.figure()\n",
    "        sns.distplot(df[col])\n",
    "        plt.show()\n",
    "        "
   ]
  },
  {
   "cell_type": "code",
   "execution_count": 8,
   "metadata": {
    "colab": {
     "base_uri": "https://localhost:8080/",
     "height": 1000
    },
    "id": "R3zVwcC5C5oY",
    "outputId": "68afed48-bc79-43e1-f813-c24a9cd57748"
   },
   "outputs": [
    {
     "data": {
      "image/png": "[encoded data removed]",
      "text/plain": [
       "<Figure size 432x288 with 1 Axes>"
      ]
     },
     "metadata": {
      "needs_background": "light"
     },
     "output_type": "display_data"
    },
    {
     "data": {
      "image/png": "[encoded data removed]",
      "text/plain": [
       "<Figure size 432x288 with 1 Axes>"
      ]
     },
     "metadata": {
      "needs_background": "light"
     },
     "output_type": "display_data"
    },
    {
     "data": {
      "image/png": "[encoded data removed]",
      "text/plain": [
       "<Figure size 432x288 with 1 Axes>"
      ]
     },
     "metadata": {
      "needs_background": "light"
     },
     "output_type": "display_data"
    },
    {
     "data": {
      "image/png": "[encoded data removed]",
      "text/plain": [
       "<Figure size 432x288 with 1 Axes>"
      ]
     },
     "metadata": {
      "needs_background": "light"
     },
     "output_type": "display_data"
    },
    {
     "data": {
      "image/png": "[encoded data removed]",
      "text/plain": [
       "<Figure size 432x288 with 1 Axes>"
      ]
     },
     "metadata": {
      "needs_background": "light"
     },
     "output_type": "display_data"
    },
    {
     "data": {
      "image/png": "[encoded data removed]",
      "text/plain": [
       "<Figure size 432x288 with 1 Axes>"
      ]
     },
     "metadata": {
      "needs_background": "light"
     },
     "output_type": "display_data"
    },
    {
     "data": {
      "image/png": "[encoded data removed]",
      "text/plain": [
       "<Figure size 432x288 with 1 Axes>"
      ]
     },
     "metadata": {
      "needs_background": "light"
     },
     "output_type": "display_data"
    },
    {
     "data": {
      "image/png": "[encoded data removed]",
      "text/plain": [
       "<Figure size 432x288 with 1 Axes>"
      ]
     },
     "metadata": {
      "needs_background": "light"
     },
     "output_type": "display_data"
    }
   ],
   "source": [
    "for col in df:\n",
    "    if df[col].dtypes == 'O':\n",
    "        plt.figure()\n",
    "        sns.countplot(df[col],hue=df['outcome'])\n",
    "        plt.show()"
   ]
  },
  {
   "cell_type": "markdown",
   "metadata": {
    "id": "DPzgNvhzC5oZ"
   },
   "source": [
    "# Featurewise count Analysis of customers have status claims.\n",
    "\n",
    "\n",
    "\n"
   ]
  },
  {
   "cell_type": "markdown",
   "metadata": {
    "id": "YjjqAaeGC5ob"
   },
   "source": [
    "* The group of Customers within age range 16 to 25 years have claimed most number of time than other age range. Around 2000\n",
    "  customers belongs to this age range and out of them 71% of customers have claimed status. This proportional is 14% if entire   dataset is considered.\n",
    "  \n",
    "* If gender feature is concern then males have claimed more than feamales.\n",
    "\n",
    "* In case of race, 90% of the customer are from majority groups and 31% of them have claimed before while goup minority customers are only 10% of total customers and 32% out of them have claimed. \n",
    "\n",
    "* One of the most important feature is driving experince of customers. The customers have experince from 0 to 9 years occupies \n",
    "  35% portion of dataset and claims happend more frequently by this group. Out of all the customers who claimed 22% population \n",
    "  belong to this range of driving experince\n",
    "  \n",
    "* Among all 70% of customer using the vehicles before Year 2015. 40% out of this group have claimed status. \n",
    "\n",
    "* 95% customer drive sedan and remaining 5% have sports cars. 29% of sedan drivers claimed and 1% of sports cars drivers."
   ]
  },
  {
   "cell_type": "markdown",
   "metadata": {
    "id": "fXsJbTWTC5od"
   },
   "source": [
    "***finding the answers for given questions"
   ]
  },
  {
   "cell_type": "code",
   "execution_count": 9,
   "metadata": {
    "id": "lJggIb5kC5oe"
   },
   "outputs": [],
   "source": [
    "#Que 1: What proportion of customers with credit scores lower than 0.2 made the claim last year ? "
   ]
  },
  {
   "cell_type": "code",
   "execution_count": 10,
   "metadata": {
    "colab": {
     "base_uri": "https://localhost:8080/",
     "height": 609
    },
    "id": "K1GpAVK9C5og",
    "outputId": "e253090f-ddb3-4cd6-a2b5-c16a260a907e"
   },
   "outputs": [
    {
     "data": {
      "text/html": [
       "<div>\n",
       "<style scoped>\n",
       "    .dataframe tbody tr th:only-of-type {\n",
       "        vertical-align: middle;\n",
       "    }\n",
       "\n",
       "    .dataframe tbody tr th {\n",
       "        vertical-align: top;\n",
       "    }\n",
       "\n",
       "    .dataframe thead th {\n",
       "        text-align: right;\n",
       "    }\n",
       "</style>\n",
       "<table border=\"1\" class=\"dataframe\">\n",
       "  <thead>\n",
       "    <tr style=\"text-align: right;\">\n",
       "      <th></th>\n",
       "      <th>id</th>\n",
       "      <th>age</th>\n",
       "      <th>gender</th>\n",
       "      <th>race</th>\n",
       "      <th>driving_experience</th>\n",
       "      <th>education</th>\n",
       "      <th>income</th>\n",
       "      <th>credit_score</th>\n",
       "      <th>vehicle_ownership</th>\n",
       "      <th>vehicle_year</th>\n",
       "      <th>married</th>\n",
       "      <th>children</th>\n",
       "      <th>postal_code</th>\n",
       "      <th>annual_mileage</th>\n",
       "      <th>vehicle_type</th>\n",
       "      <th>speeding_violations</th>\n",
       "      <th>DUIs</th>\n",
       "      <th>past_accidents</th>\n",
       "      <th>outcome</th>\n",
       "    </tr>\n",
       "  </thead>\n",
       "  <tbody>\n",
       "    <tr>\n",
       "      <th>32</th>\n",
       "      <td>496987</td>\n",
       "      <td>16-25</td>\n",
       "      <td>male</td>\n",
       "      <td>majority</td>\n",
       "      <td>0-9y</td>\n",
       "      <td>none</td>\n",
       "      <td>poverty</td>\n",
       "      <td>0.171244</td>\n",
       "      <td>True</td>\n",
       "      <td>before 2015</td>\n",
       "      <td>True</td>\n",
       "      <td>True</td>\n",
       "      <td>10238</td>\n",
       "      <td>9000.0</td>\n",
       "      <td>sedan</td>\n",
       "      <td>0</td>\n",
       "      <td>0</td>\n",
       "      <td>0</td>\n",
       "      <td>False</td>\n",
       "    </tr>\n",
       "    <tr>\n",
       "      <th>187</th>\n",
       "      <td>431538</td>\n",
       "      <td>16-25</td>\n",
       "      <td>male</td>\n",
       "      <td>majority</td>\n",
       "      <td>0-9y</td>\n",
       "      <td>high school</td>\n",
       "      <td>poverty</td>\n",
       "      <td>0.194150</td>\n",
       "      <td>False</td>\n",
       "      <td>before 2015</td>\n",
       "      <td>True</td>\n",
       "      <td>False</td>\n",
       "      <td>10238</td>\n",
       "      <td>12000.0</td>\n",
       "      <td>sports car</td>\n",
       "      <td>0</td>\n",
       "      <td>0</td>\n",
       "      <td>0</td>\n",
       "      <td>True</td>\n",
       "    </tr>\n",
       "    <tr>\n",
       "      <th>210</th>\n",
       "      <td>112143</td>\n",
       "      <td>16-25</td>\n",
       "      <td>female</td>\n",
       "      <td>majority</td>\n",
       "      <td>0-9y</td>\n",
       "      <td>none</td>\n",
       "      <td>working class</td>\n",
       "      <td>0.192427</td>\n",
       "      <td>False</td>\n",
       "      <td>before 2015</td>\n",
       "      <td>False</td>\n",
       "      <td>True</td>\n",
       "      <td>32765</td>\n",
       "      <td>11000.0</td>\n",
       "      <td>sedan</td>\n",
       "      <td>0</td>\n",
       "      <td>0</td>\n",
       "      <td>0</td>\n",
       "      <td>True</td>\n",
       "    </tr>\n",
       "    <tr>\n",
       "      <th>279</th>\n",
       "      <td>124204</td>\n",
       "      <td>16-25</td>\n",
       "      <td>female</td>\n",
       "      <td>majority</td>\n",
       "      <td>0-9y</td>\n",
       "      <td>none</td>\n",
       "      <td>poverty</td>\n",
       "      <td>0.186185</td>\n",
       "      <td>False</td>\n",
       "      <td>before 2015</td>\n",
       "      <td>False</td>\n",
       "      <td>False</td>\n",
       "      <td>10238</td>\n",
       "      <td>17000.0</td>\n",
       "      <td>sedan</td>\n",
       "      <td>0</td>\n",
       "      <td>0</td>\n",
       "      <td>0</td>\n",
       "      <td>True</td>\n",
       "    </tr>\n",
       "    <tr>\n",
       "      <th>294</th>\n",
       "      <td>232470</td>\n",
       "      <td>16-25</td>\n",
       "      <td>male</td>\n",
       "      <td>majority</td>\n",
       "      <td>0-9y</td>\n",
       "      <td>university</td>\n",
       "      <td>poverty</td>\n",
       "      <td>0.126453</td>\n",
       "      <td>True</td>\n",
       "      <td>before 2015</td>\n",
       "      <td>False</td>\n",
       "      <td>True</td>\n",
       "      <td>10238</td>\n",
       "      <td>14000.0</td>\n",
       "      <td>sedan</td>\n",
       "      <td>0</td>\n",
       "      <td>0</td>\n",
       "      <td>0</td>\n",
       "      <td>True</td>\n",
       "    </tr>\n",
       "    <tr>\n",
       "      <th>...</th>\n",
       "      <td>...</td>\n",
       "      <td>...</td>\n",
       "      <td>...</td>\n",
       "      <td>...</td>\n",
       "      <td>...</td>\n",
       "      <td>...</td>\n",
       "      <td>...</td>\n",
       "      <td>...</td>\n",
       "      <td>...</td>\n",
       "      <td>...</td>\n",
       "      <td>...</td>\n",
       "      <td>...</td>\n",
       "      <td>...</td>\n",
       "      <td>...</td>\n",
       "      <td>...</td>\n",
       "      <td>...</td>\n",
       "      <td>...</td>\n",
       "      <td>...</td>\n",
       "      <td>...</td>\n",
       "    </tr>\n",
       "    <tr>\n",
       "      <th>9648</th>\n",
       "      <td>41325</td>\n",
       "      <td>40-64</td>\n",
       "      <td>male</td>\n",
       "      <td>majority</td>\n",
       "      <td>20-29y</td>\n",
       "      <td>high school</td>\n",
       "      <td>poverty</td>\n",
       "      <td>0.115402</td>\n",
       "      <td>False</td>\n",
       "      <td>before 2015</td>\n",
       "      <td>False</td>\n",
       "      <td>False</td>\n",
       "      <td>32765</td>\n",
       "      <td>16000.0</td>\n",
       "      <td>sedan</td>\n",
       "      <td>2</td>\n",
       "      <td>0</td>\n",
       "      <td>0</td>\n",
       "      <td>True</td>\n",
       "    </tr>\n",
       "    <tr>\n",
       "      <th>9661</th>\n",
       "      <td>968926</td>\n",
       "      <td>16-25</td>\n",
       "      <td>male</td>\n",
       "      <td>majority</td>\n",
       "      <td>0-9y</td>\n",
       "      <td>high school</td>\n",
       "      <td>poverty</td>\n",
       "      <td>0.150101</td>\n",
       "      <td>True</td>\n",
       "      <td>before 2015</td>\n",
       "      <td>False</td>\n",
       "      <td>False</td>\n",
       "      <td>10238</td>\n",
       "      <td>16000.0</td>\n",
       "      <td>sedan</td>\n",
       "      <td>0</td>\n",
       "      <td>0</td>\n",
       "      <td>0</td>\n",
       "      <td>False</td>\n",
       "    </tr>\n",
       "    <tr>\n",
       "      <th>9687</th>\n",
       "      <td>981972</td>\n",
       "      <td>16-25</td>\n",
       "      <td>male</td>\n",
       "      <td>minority</td>\n",
       "      <td>0-9y</td>\n",
       "      <td>high school</td>\n",
       "      <td>poverty</td>\n",
       "      <td>0.125896</td>\n",
       "      <td>False</td>\n",
       "      <td>after 2015</td>\n",
       "      <td>False</td>\n",
       "      <td>False</td>\n",
       "      <td>32765</td>\n",
       "      <td>14000.0</td>\n",
       "      <td>sedan</td>\n",
       "      <td>0</td>\n",
       "      <td>0</td>\n",
       "      <td>0</td>\n",
       "      <td>False</td>\n",
       "    </tr>\n",
       "    <tr>\n",
       "      <th>9695</th>\n",
       "      <td>738707</td>\n",
       "      <td>16-25</td>\n",
       "      <td>male</td>\n",
       "      <td>majority</td>\n",
       "      <td>0-9y</td>\n",
       "      <td>high school</td>\n",
       "      <td>poverty</td>\n",
       "      <td>0.160785</td>\n",
       "      <td>True</td>\n",
       "      <td>before 2015</td>\n",
       "      <td>False</td>\n",
       "      <td>False</td>\n",
       "      <td>32765</td>\n",
       "      <td>9000.0</td>\n",
       "      <td>sedan</td>\n",
       "      <td>0</td>\n",
       "      <td>0</td>\n",
       "      <td>0</td>\n",
       "      <td>True</td>\n",
       "    </tr>\n",
       "    <tr>\n",
       "      <th>9702</th>\n",
       "      <td>54485</td>\n",
       "      <td>16-25</td>\n",
       "      <td>male</td>\n",
       "      <td>majority</td>\n",
       "      <td>0-9y</td>\n",
       "      <td>high school</td>\n",
       "      <td>poverty</td>\n",
       "      <td>0.193623</td>\n",
       "      <td>False</td>\n",
       "      <td>before 2015</td>\n",
       "      <td>False</td>\n",
       "      <td>False</td>\n",
       "      <td>10238</td>\n",
       "      <td>17000.0</td>\n",
       "      <td>sedan</td>\n",
       "      <td>0</td>\n",
       "      <td>0</td>\n",
       "      <td>0</td>\n",
       "      <td>True</td>\n",
       "    </tr>\n",
       "  </tbody>\n",
       "</table>\n",
       "<p>98 rows × 19 columns</p>\n",
       "</div>"
      ],
      "text/plain": [
       "          id    age  gender      race driving_experience    education  \\\n",
       "32    496987  16-25    male  majority               0-9y         none   \n",
       "187   431538  16-25    male  majority               0-9y  high school   \n",
       "210   112143  16-25  female  majority               0-9y         none   \n",
       "279   124204  16-25  female  majority               0-9y         none   \n",
       "294   232470  16-25    male  majority               0-9y   university   \n",
       "...      ...    ...     ...       ...                ...          ...   \n",
       "9648   41325  40-64    male  majority             20-29y  high school   \n",
       "9661  968926  16-25    male  majority               0-9y  high school   \n",
       "9687  981972  16-25    male  minority               0-9y  high school   \n",
       "9695  738707  16-25    male  majority               0-9y  high school   \n",
       "9702   54485  16-25    male  majority               0-9y  high school   \n",
       "\n",
       "             income  credit_score  vehicle_ownership vehicle_year  married  \\\n",
       "32          poverty      0.171244               True  before 2015     True   \n",
       "187         poverty      0.194150              False  before 2015     True   \n",
       "210   working class      0.192427              False  before 2015    False   \n",
       "279         poverty      0.186185              False  before 2015    False   \n",
       "294         poverty      0.126453               True  before 2015    False   \n",
       "...             ...           ...                ...          ...      ...   \n",
       "9648        poverty      0.115402              False  before 2015    False   \n",
       "9661        poverty      0.150101               True  before 2015    False   \n",
       "9687        poverty      0.125896              False   after 2015    False   \n",
       "9695        poverty      0.160785               True  before 2015    False   \n",
       "9702        poverty      0.193623              False  before 2015    False   \n",
       "\n",
       "      children  postal_code  annual_mileage vehicle_type  speeding_violations  \\\n",
       "32        True        10238          9000.0        sedan                    0   \n",
       "187      False        10238         12000.0   sports car                    0   \n",
       "210       True        32765         11000.0        sedan                    0   \n",
       "279      False        10238         17000.0        sedan                    0   \n",
       "294       True        10238         14000.0        sedan                    0   \n",
       "...        ...          ...             ...          ...                  ...   \n",
       "9648     False        32765         16000.0        sedan                    2   \n",
       "9661     False        10238         16000.0        sedan                    0   \n",
       "9687     False        32765         14000.0        sedan                    0   \n",
       "9695     False        32765          9000.0        sedan                    0   \n",
       "9702     False        10238         17000.0        sedan                    0   \n",
       "\n",
       "      DUIs  past_accidents  outcome  \n",
       "32       0               0    False  \n",
       "187      0               0     True  \n",
       "210      0               0     True  \n",
       "279      0               0     True  \n",
       "294      0               0     True  \n",
       "...    ...             ...      ...  \n",
       "9648     0               0     True  \n",
       "9661     0               0    False  \n",
       "9687     0               0    False  \n",
       "9695     0               0     True  \n",
       "9702     0               0     True  \n",
       "\n",
       "[98 rows x 19 columns]"
      ]
     },
     "execution_count": 10,
     "metadata": {},
     "output_type": "execute_result"
    }
   ],
   "source": [
    "df.loc[df['credit_score'] < 0.2]"
   ]
  },
  {
   "cell_type": "code",
   "execution_count": 11,
   "metadata": {
    "id": "kgC2jFprC5oh"
   },
   "outputs": [],
   "source": [
    "df_1 = df.loc[(df['credit_score'] < 0.2) & (df['outcome'] == True)] "
   ]
  },
  {
   "cell_type": "code",
   "execution_count": 12,
   "metadata": {
    "colab": {
     "base_uri": "https://localhost:8080/",
     "height": 309
    },
    "id": "U-4BU8puC5oh",
    "outputId": "cec6c855-3fbf-478b-a9cb-8670d8dd1441"
   },
   "outputs": [
    {
     "data": {
      "text/html": [
       "<div>\n",
       "<style scoped>\n",
       "    .dataframe tbody tr th:only-of-type {\n",
       "        vertical-align: middle;\n",
       "    }\n",
       "\n",
       "    .dataframe tbody tr th {\n",
       "        vertical-align: top;\n",
       "    }\n",
       "\n",
       "    .dataframe thead th {\n",
       "        text-align: right;\n",
       "    }\n",
       "</style>\n",
       "<table border=\"1\" class=\"dataframe\">\n",
       "  <thead>\n",
       "    <tr style=\"text-align: right;\">\n",
       "      <th></th>\n",
       "      <th>id</th>\n",
       "      <th>age</th>\n",
       "      <th>gender</th>\n",
       "      <th>race</th>\n",
       "      <th>driving_experience</th>\n",
       "      <th>education</th>\n",
       "      <th>income</th>\n",
       "      <th>credit_score</th>\n",
       "      <th>vehicle_ownership</th>\n",
       "      <th>vehicle_year</th>\n",
       "      <th>married</th>\n",
       "      <th>children</th>\n",
       "      <th>postal_code</th>\n",
       "      <th>annual_mileage</th>\n",
       "      <th>vehicle_type</th>\n",
       "      <th>speeding_violations</th>\n",
       "      <th>DUIs</th>\n",
       "      <th>past_accidents</th>\n",
       "      <th>outcome</th>\n",
       "    </tr>\n",
       "  </thead>\n",
       "  <tbody>\n",
       "    <tr>\n",
       "      <th>187</th>\n",
       "      <td>431538</td>\n",
       "      <td>16-25</td>\n",
       "      <td>male</td>\n",
       "      <td>majority</td>\n",
       "      <td>0-9y</td>\n",
       "      <td>high school</td>\n",
       "      <td>poverty</td>\n",
       "      <td>0.194150</td>\n",
       "      <td>False</td>\n",
       "      <td>before 2015</td>\n",
       "      <td>True</td>\n",
       "      <td>False</td>\n",
       "      <td>10238</td>\n",
       "      <td>12000.0</td>\n",
       "      <td>sports car</td>\n",
       "      <td>0</td>\n",
       "      <td>0</td>\n",
       "      <td>0</td>\n",
       "      <td>True</td>\n",
       "    </tr>\n",
       "    <tr>\n",
       "      <th>210</th>\n",
       "      <td>112143</td>\n",
       "      <td>16-25</td>\n",
       "      <td>female</td>\n",
       "      <td>majority</td>\n",
       "      <td>0-9y</td>\n",
       "      <td>none</td>\n",
       "      <td>working class</td>\n",
       "      <td>0.192427</td>\n",
       "      <td>False</td>\n",
       "      <td>before 2015</td>\n",
       "      <td>False</td>\n",
       "      <td>True</td>\n",
       "      <td>32765</td>\n",
       "      <td>11000.0</td>\n",
       "      <td>sedan</td>\n",
       "      <td>0</td>\n",
       "      <td>0</td>\n",
       "      <td>0</td>\n",
       "      <td>True</td>\n",
       "    </tr>\n",
       "    <tr>\n",
       "      <th>279</th>\n",
       "      <td>124204</td>\n",
       "      <td>16-25</td>\n",
       "      <td>female</td>\n",
       "      <td>majority</td>\n",
       "      <td>0-9y</td>\n",
       "      <td>none</td>\n",
       "      <td>poverty</td>\n",
       "      <td>0.186185</td>\n",
       "      <td>False</td>\n",
       "      <td>before 2015</td>\n",
       "      <td>False</td>\n",
       "      <td>False</td>\n",
       "      <td>10238</td>\n",
       "      <td>17000.0</td>\n",
       "      <td>sedan</td>\n",
       "      <td>0</td>\n",
       "      <td>0</td>\n",
       "      <td>0</td>\n",
       "      <td>True</td>\n",
       "    </tr>\n",
       "    <tr>\n",
       "      <th>294</th>\n",
       "      <td>232470</td>\n",
       "      <td>16-25</td>\n",
       "      <td>male</td>\n",
       "      <td>majority</td>\n",
       "      <td>0-9y</td>\n",
       "      <td>university</td>\n",
       "      <td>poverty</td>\n",
       "      <td>0.126453</td>\n",
       "      <td>True</td>\n",
       "      <td>before 2015</td>\n",
       "      <td>False</td>\n",
       "      <td>True</td>\n",
       "      <td>10238</td>\n",
       "      <td>14000.0</td>\n",
       "      <td>sedan</td>\n",
       "      <td>0</td>\n",
       "      <td>0</td>\n",
       "      <td>0</td>\n",
       "      <td>True</td>\n",
       "    </tr>\n",
       "    <tr>\n",
       "      <th>880</th>\n",
       "      <td>66528</td>\n",
       "      <td>26-39</td>\n",
       "      <td>male</td>\n",
       "      <td>minority</td>\n",
       "      <td>10-19y</td>\n",
       "      <td>none</td>\n",
       "      <td>poverty</td>\n",
       "      <td>0.190250</td>\n",
       "      <td>False</td>\n",
       "      <td>before 2015</td>\n",
       "      <td>False</td>\n",
       "      <td>True</td>\n",
       "      <td>10238</td>\n",
       "      <td>11000.0</td>\n",
       "      <td>sedan</td>\n",
       "      <td>0</td>\n",
       "      <td>0</td>\n",
       "      <td>1</td>\n",
       "      <td>True</td>\n",
       "    </tr>\n",
       "  </tbody>\n",
       "</table>\n",
       "</div>"
      ],
      "text/plain": [
       "         id    age  gender      race driving_experience    education  \\\n",
       "187  431538  16-25    male  majority               0-9y  high school   \n",
       "210  112143  16-25  female  majority               0-9y         none   \n",
       "279  124204  16-25  female  majority               0-9y         none   \n",
       "294  232470  16-25    male  majority               0-9y   university   \n",
       "880   66528  26-39    male  minority             10-19y         none   \n",
       "\n",
       "            income  credit_score  vehicle_ownership vehicle_year  married  \\\n",
       "187        poverty      0.194150              False  before 2015     True   \n",
       "210  working class      0.192427              False  before 2015    False   \n",
       "279        poverty      0.186185              False  before 2015    False   \n",
       "294        poverty      0.126453               True  before 2015    False   \n",
       "880        poverty      0.190250              False  before 2015    False   \n",
       "\n",
       "     children  postal_code  annual_mileage vehicle_type  speeding_violations  \\\n",
       "187     False        10238         12000.0   sports car                    0   \n",
       "210      True        32765         11000.0        sedan                    0   \n",
       "279     False        10238         17000.0        sedan                    0   \n",
       "294      True        10238         14000.0        sedan                    0   \n",
       "880      True        10238         11000.0        sedan                    0   \n",
       "\n",
       "     DUIs  past_accidents  outcome  \n",
       "187     0               0     True  \n",
       "210     0               0     True  \n",
       "279     0               0     True  \n",
       "294     0               0     True  \n",
       "880     0               1     True  "
      ]
     },
     "execution_count": 12,
     "metadata": {},
     "output_type": "execute_result"
    }
   ],
   "source": [
    "df_1.head()"
   ]
  },
  {
   "cell_type": "code",
   "execution_count": 13,
   "metadata": {
    "colab": {
     "base_uri": "https://localhost:8080/"
    },
    "id": "SHHaOOFVC5oj",
    "outputId": "1eb34063-9f21-4b27-ab46-3b9479857398"
   },
   "outputs": [
    {
     "name": "stdout",
     "output_type": "stream",
     "text": [
      "Among all customers in dataset, 0.59% of customers have credit score lower than 0.2 and thay made the claim.\n"
     ]
    }
   ],
   "source": [
    "poc = len(df_1) /len(df) * 100\n",
    "\n",
    "print(f'Among all customers in dataset, {poc}% of customers have credit score lower than 0.2 and thay made the claim.')"
   ]
  },
  {
   "cell_type": "code",
   "execution_count": 14,
   "metadata": {
    "colab": {
     "base_uri": "https://localhost:8080/",
     "height": 411
    },
    "id": "CnLP6Us8C5ol",
    "outputId": "ee321d32-2b4b-48ed-a359-3119b64977de"
   },
   "outputs": [
    {
     "data": {
      "image/png": "[encoded data removed]",
      "text/plain": [
       "<Figure size 504x504 with 1 Axes>"
      ]
     },
     "metadata": {},
     "output_type": "display_data"
    }
   ],
   "source": [
    "plt.figure(figsize=(7,7))\n",
    "df['credit_score'] = df['credit_score'] < 0.2\n",
    "df['outcome'].value_counts().plot.pie(autopct=\"%.1f%%\")\n",
    "plt.show()"
   ]
  },
  {
   "cell_type": "markdown",
   "metadata": {
    "id": "JAqT6vdeC5om"
   },
   "source": [
    "* We have 10,000 records for all the customers in dataset and total 98 customers have credit score lower than 0.2\n",
    "* The pie plot represent all the customers with credit score lower than 0.2. \n",
    "* In this specific group the portion of customer who claims is 31% out of all."
   ]
  },
  {
   "cell_type": "code",
   "execution_count": null,
   "metadata": {
    "id": "TPLQ0CJ8C5oq"
   },
   "outputs": [],
   "source": []
  },
  {
   "cell_type": "code",
   "execution_count": 15,
   "metadata": {
    "id": "SKDgWpZzC5or"
   },
   "outputs": [],
   "source": [
    "#Que 2: What is the Average number of speeding violations among the customers driving experience between 20-29 years ? "
   ]
  },
  {
   "cell_type": "code",
   "execution_count": 16,
   "metadata": {
    "id": "OExe23N7C5os"
   },
   "outputs": [],
   "source": [
    "Avrg_vio = (df.groupby('driving_experience', as_index=False)['speeding_violations'].mean()).nlargest(4,'speeding_violations')"
   ]
  },
  {
   "cell_type": "code",
   "execution_count": 17,
   "metadata": {
    "colab": {
     "base_uri": "https://localhost:8080/",
     "height": 173
    },
    "id": "_rVN8pTEC5ot",
    "outputId": "0ff979eb-74fa-45b5-9f3b-b9e64442acb7"
   },
   "outputs": [
    {
     "data": {
      "text/html": [
       "<div>\n",
       "<style scoped>\n",
       "    .dataframe tbody tr th:only-of-type {\n",
       "        vertical-align: middle;\n",
       "    }\n",
       "\n",
       "    .dataframe tbody tr th {\n",
       "        vertical-align: top;\n",
       "    }\n",
       "\n",
       "    .dataframe thead th {\n",
       "        text-align: right;\n",
       "    }\n",
       "</style>\n",
       "<table border=\"1\" class=\"dataframe\">\n",
       "  <thead>\n",
       "    <tr style=\"text-align: right;\">\n",
       "      <th></th>\n",
       "      <th>driving_experience</th>\n",
       "      <th>speeding_violations</th>\n",
       "    </tr>\n",
       "  </thead>\n",
       "  <tbody>\n",
       "    <tr>\n",
       "      <th>3</th>\n",
       "      <td>30y+</td>\n",
       "      <td>4.460076</td>\n",
       "    </tr>\n",
       "    <tr>\n",
       "      <th>2</th>\n",
       "      <td>20-29y</td>\n",
       "      <td>2.734309</td>\n",
       "    </tr>\n",
       "    <tr>\n",
       "      <th>1</th>\n",
       "      <td>10-19y</td>\n",
       "      <td>1.316460</td>\n",
       "    </tr>\n",
       "    <tr>\n",
       "      <th>0</th>\n",
       "      <td>0-9y</td>\n",
       "      <td>0.000000</td>\n",
       "    </tr>\n",
       "  </tbody>\n",
       "</table>\n",
       "</div>"
      ],
      "text/plain": [
       "  driving_experience  speeding_violations\n",
       "3               30y+             4.460076\n",
       "2             20-29y             2.734309\n",
       "1             10-19y             1.316460\n",
       "0               0-9y             0.000000"
      ]
     },
     "execution_count": 17,
     "metadata": {},
     "output_type": "execute_result"
    }
   ],
   "source": [
    "Avrg_vio"
   ]
  },
  {
   "cell_type": "code",
   "execution_count": 18,
   "metadata": {
    "colab": {
     "base_uri": "https://localhost:8080/",
     "height": 297
    },
    "id": "LJMzUUiRC5ou",
    "outputId": "289bd324-2ea1-4f7d-f4b8-4d753ebccb9c"
   },
   "outputs": [
    {
     "data": {
      "text/plain": [
       "Text(0, 0.5, 'Speeding_violation')"
      ]
     },
     "execution_count": 18,
     "metadata": {},
     "output_type": "execute_result"
    },
    {
     "data": {
      "image/png": "[encoded data removed]",
      "text/plain": [
       "<Figure size 432x288 with 1 Axes>"
      ]
     },
     "metadata": {
      "needs_background": "light"
     },
     "output_type": "display_data"
    }
   ],
   "source": [
    "Avrg_vio.plot.bar(x='driving_experience', y='speeding_violations',rot=0)\n",
    "plt.ylabel('Speeding_violation')"
   ]
  },
  {
   "cell_type": "markdown",
   "metadata": {
    "id": "LdgEfgK7C5ov"
   },
   "source": [
    "* To find out the Avarage number of speeding violation attempted by the customer who have experience of driving from 20 to 29     years.\n",
    "* we taking the most frequent number appears in this violation column. In other words finding the median of the violations       feature. \n",
    "* The avarage number for speeding violation is 2 for this specific group and the impact can be seen on the percentage  of         customers in this group who claimed. Its small number like 1% customers of this group claimed insurnce.\n",
    "* maximum number of violation occurred via this groups customers is 17 and minimum time is 0."
   ]
  },
  {
   "cell_type": "code",
   "execution_count": 19,
   "metadata": {
    "id": "1QDD4XjDC5ow"
   },
   "outputs": [],
   "source": [
    "#Que 3: What if you consider only the people in this group who drive a sports car ?"
   ]
  },
  {
   "cell_type": "markdown",
   "metadata": {
    "id": "jKh6Z995C5oy"
   },
   "source": [
    "We perform analysis here in two ways : \n",
    "\n",
    "1) In Entire dataset of the customers, around 5% customers drive sports cars.and Avarage number of speeding violation is \n",
    "   1, which is higher than the avarage speeding violation done by group drive sedan cars."
   ]
  },
  {
   "cell_type": "code",
   "execution_count": 20,
   "metadata": {
    "colab": {
     "base_uri": "https://localhost:8080/"
    },
    "id": "ZPNgVGcLC5oz",
    "outputId": "b4a7c00e-c204-46da-ec94-ba728b611222"
   },
   "outputs": [
    {
     "data": {
      "text/plain": [
       "0.0"
      ]
     },
     "execution_count": 20,
     "metadata": {},
     "output_type": "execute_result"
    }
   ],
   "source": [
    "#Average speeding violation of the customers with sports cars and claimed status\n",
    "\n",
    "df[(df['vehicle_type'] == 'sports car') & (df['outcome'] == True)]['speeding_violations'].median()"
   ]
  },
  {
   "cell_type": "code",
   "execution_count": 21,
   "metadata": {
    "colab": {
     "base_uri": "https://localhost:8080/"
    },
    "id": "eR_dD7v5C5o1",
    "outputId": "8c32571d-6604-4c15-d79e-9ce573a22798"
   },
   "outputs": [
    {
     "data": {
      "text/plain": [
       "1.0"
      ]
     },
     "execution_count": 21,
     "metadata": {},
     "output_type": "execute_result"
    }
   ],
   "source": [
    "#Averahe speeding violation of the customers with sports cars and Not claimed status\n",
    "\n",
    "df[(df['vehicle_type'] == 'sports car') & (df['outcome'] == False)]['speeding_violations'].median()"
   ]
  },
  {
   "cell_type": "code",
   "execution_count": 22,
   "metadata": {
    "colab": {
     "base_uri": "https://localhost:8080/",
     "height": 265
    },
    "id": "W4Qg9jzMC5o2",
    "outputId": "8e6e6643-ef0c-4abf-c77d-ee660e6a289c"
   },
   "outputs": [
    {
     "data": {
      "text/plain": [
       "<matplotlib.axes._subplots.AxesSubplot at 0x23feeb156a0>"
      ]
     },
     "execution_count": 22,
     "metadata": {},
     "output_type": "execute_result"
    },
    {
     "data": {
      "image/png": "[encoded data removed]",
      "text/plain": [
       "<Figure size 432x288 with 1 Axes>"
      ]
     },
     "metadata": {},
     "output_type": "display_data"
    }
   ],
   "source": [
    "#Percentage of sports car drives in entire dataset \n",
    "\n",
    "df['vehicle_type'].value_counts().plot.pie(autopct='%.1f%%')"
   ]
  },
  {
   "cell_type": "code",
   "execution_count": null,
   "metadata": {
    "id": "tIrJSN5lC5o5"
   },
   "outputs": [],
   "source": []
  },
  {
   "cell_type": "code",
   "execution_count": 23,
   "metadata": {
    "id": "DVUXL2ZTC5o5"
   },
   "outputs": [],
   "source": [
    "#2) Analysis within group has driving experinece from 20 to 29 years"
   ]
  },
  {
   "cell_type": "code",
   "execution_count": 24,
   "metadata": {
    "id": "oTVGsFvxC5o6"
   },
   "outputs": [],
   "source": [
    "df1 = df[df['driving_experience'] == '20-29y']"
   ]
  },
  {
   "cell_type": "code",
   "execution_count": 25,
   "metadata": {
    "colab": {
     "base_uri": "https://localhost:8080/"
    },
    "id": "KPYwvZ04C5o7",
    "outputId": "02d63c3a-0693-4ad0-a433-650b8bfd375a"
   },
   "outputs": [
    {
     "name": "stdout",
     "output_type": "stream",
     "text": [
      "In group of customers having driving experince from 20-29 years,4% customers have sports cars\n"
     ]
    }
   ],
   "source": [
    "per_sp = len(df1[df1['vehicle_type'] == 'sports car']) / len(df1) * 100\n",
    "\n",
    "print(f\"In group of customers having driving experince from 20-29 years,{int(per_sp)}% customers have sports cars\")"
   ]
  },
  {
   "cell_type": "code",
   "execution_count": 26,
   "metadata": {
    "colab": {
     "base_uri": "https://localhost:8080/"
    },
    "id": "jbqGVpvzC5o8",
    "outputId": "bc33c79c-30a1-4ea5-8778-ee9529e6d22a"
   },
   "outputs": [
    {
     "name": "stdout",
     "output_type": "stream",
     "text": [
      "The avarage No of speeding violatons done by Sport cars drivers is 2\n"
     ]
    }
   ],
   "source": [
    "df1[df1['vehicle_type'] == 'sports car']['speeding_violations'].median()\n",
    "\n",
    "print(f\"The avarage No of speeding violatons done by Sport cars drivers is {int(df1[df1['vehicle_type'] == 'sports car']['speeding_violations'].median())}\")"
   ]
  },
  {
   "cell_type": "code",
   "execution_count": 27,
   "metadata": {
    "colab": {
     "base_uri": "https://localhost:8080/"
    },
    "id": "mN5CEGOEC5o9",
    "outputId": "9bda4693-7edb-4fc5-f23d-9b3dfc88b9f7"
   },
   "outputs": [
    {
     "data": {
      "text/plain": [
       "1.257861635220126"
      ]
     },
     "execution_count": 27,
     "metadata": {},
     "output_type": "execute_result"
    }
   ],
   "source": [
    "##percentage of customer who have sports cars and claims status True.\n",
    "\n",
    "len(df[(df['vehicle_type'] == 'sports car') & (df1['outcome'] == True)]) / len(df[df['vehicle_type'] == 'sports car']) * 100"
   ]
  },
  {
   "cell_type": "code",
   "execution_count": 28,
   "metadata": {
    "colab": {
     "base_uri": "https://localhost:8080/"
    },
    "id": "iLZ1nsB5C5o-",
    "outputId": "ac6ac5ee-e8f6-4cb4-98a5-24c5642ee66b"
   },
   "outputs": [
    {
     "data": {
      "text/plain": [
       "1.0"
      ]
     },
     "execution_count": 28,
     "metadata": {},
     "output_type": "execute_result"
    }
   ],
   "source": [
    "#Averahe speeding violation of the customers with sports cars and claimed status\n",
    "\n",
    "df1[(df1['vehicle_type'] == 'sports car') & (df1['outcome'] == True)]['speeding_violations'].median()"
   ]
  },
  {
   "cell_type": "code",
   "execution_count": 29,
   "metadata": {
    "colab": {
     "base_uri": "https://localhost:8080/"
    },
    "id": "W9SO9Ld9C5o_",
    "outputId": "102b4522-3544-426b-c2e8-0dd349f30b6e"
   },
   "outputs": [
    {
     "data": {
      "text/plain": [
       "2.0"
      ]
     },
     "execution_count": 29,
     "metadata": {},
     "output_type": "execute_result"
    }
   ],
   "source": [
    "#Averahe speeding violation of the customers with sports cars and Not claimed status\n",
    "\n",
    "df1[(df1['vehicle_type'] == 'sports car') & (df1['outcome'] == False)]['speeding_violations'].median()"
   ]
  },
  {
   "cell_type": "code",
   "execution_count": 30,
   "metadata": {
    "colab": {
     "base_uri": "https://localhost:8080/",
     "height": 297
    },
    "id": "gZSVrCR_C5o_",
    "outputId": "e7b128d1-5a84-467b-8764-2b6812cd0f2d"
   },
   "outputs": [
    {
     "data": {
      "text/plain": [
       "<matplotlib.axes._subplots.AxesSubplot at 0x23feeaef820>"
      ]
     },
     "execution_count": 30,
     "metadata": {},
     "output_type": "execute_result"
    },
    {
     "data": {
      "image/png": "[encoded data removed]",
      "text/plain": [
       "<Figure size 432x288 with 1 Axes>"
      ]
     },
     "metadata": {
      "needs_background": "light"
     },
     "output_type": "display_data"
    }
   ],
   "source": [
    "sns.scatterplot(df1['vehicle_type'],df1['speeding_violations'])"
   ]
  },
  {
   "cell_type": "code",
   "execution_count": 31,
   "metadata": {
    "colab": {
     "base_uri": "https://localhost:8080/",
     "height": 297
    },
    "id": "9YDmoHxdC5pA",
    "outputId": "21577344-ab97-40fa-f80d-26f6f242c168"
   },
   "outputs": [
    {
     "data": {
      "text/plain": [
       "<matplotlib.axes._subplots.AxesSubplot at 0x23feefb5280>"
      ]
     },
     "execution_count": 31,
     "metadata": {},
     "output_type": "execute_result"
    },
    {
     "data": {
      "image/png": "[encoded data removed]",
      "text/plain": [
       "<Figure size 432x288 with 1 Axes>"
      ]
     },
     "metadata": {
      "needs_background": "light"
     },
     "output_type": "display_data"
    }
   ],
   "source": [
    "sns.countplot(df['vehicle_type'],hue=df['outcome'])"
   ]
  },
  {
   "cell_type": "code",
   "execution_count": 32,
   "metadata": {
    "colab": {
     "base_uri": "https://localhost:8080/",
     "height": 297
    },
    "id": "t2NKZYPuC5pA",
    "outputId": "89dd0366-28fa-45b0-f082-e4f522458c5c"
   },
   "outputs": [
    {
     "data": {
      "text/plain": [
       "<matplotlib.axes._subplots.AxesSubplot at 0x23fee9fa340>"
      ]
     },
     "execution_count": 32,
     "metadata": {},
     "output_type": "execute_result"
    },
    {
     "data": {
      "image/png": "[encoded data removed]",
      "text/plain": [
       "<Figure size 432x288 with 1 Axes>"
      ]
     },
     "metadata": {
      "needs_background": "light"
     },
     "output_type": "display_data"
    }
   ],
   "source": [
    "sns.boxplot(data= df,x='vehicle_type',y='speeding_violations')"
   ]
  },
  {
   "cell_type": "markdown",
   "metadata": {
    "id": "E2WK_bBnC5pA"
   },
   "source": [
    "**Summery**\n",
    "\n",
    "1) Amoung 10,000 customers, around 5% customers drive sports cars. \n",
    "2) the avarage speeding violation done by sports cars drivers and non-sport cars drivers almost same    that is 0.\n",
    "3) A big diffrence can be spot in both above groups taking claim percenatge in concern. Out of all      sports car drives 32% of claimed and out of all non-sport car drives 30% of them claimed              insurance. in compare with non-sport driving customer the sport car drives claims more often. "
   ]
  },
  {
   "cell_type": "code",
   "execution_count": 33,
   "metadata": {
    "colab": {
     "base_uri": "https://localhost:8080/",
     "height": 300
    },
    "id": "XHNHhE2QC5pB",
    "outputId": "8d49ac01-b0f5-4d40-c7d6-8c549db1854d"
   },
   "outputs": [
    {
     "data": {
      "text/plain": [
       "<matplotlib.axes._subplots.AxesSubplot at 0x23fee85cd90>"
      ]
     },
     "execution_count": 33,
     "metadata": {},
     "output_type": "execute_result"
    },
    {
     "data": {
      "image/png": "[encoded data removed]",
      "text/plain": [
       "<Figure size 432x288 with 1 Axes>"
      ]
     },
     "metadata": {
      "needs_background": "light"
     },
     "output_type": "display_data"
    }
   ],
   "source": [
    "sns.countplot(df1['vehicle_type'],hue=df1['outcome'])"
   ]
  },
  {
   "cell_type": "code",
   "execution_count": 34,
   "metadata": {
    "colab": {
     "base_uri": "https://localhost:8080/",
     "height": 297
    },
    "id": "cwGeZUOJC5pB",
    "outputId": "a647d5ae-b90c-40fd-f22e-6803b599c9ca"
   },
   "outputs": [
    {
     "data": {
      "text/plain": [
       "<matplotlib.axes._subplots.AxesSubplot at 0x23fee983640>"
      ]
     },
     "execution_count": 34,
     "metadata": {},
     "output_type": "execute_result"
    },
    {
     "data": {
      "image/png": "[encoded data removed]",
      "text/plain": [
       "<Figure size 432x288 with 1 Axes>"
      ]
     },
     "metadata": {
      "needs_background": "light"
     },
     "output_type": "display_data"
    }
   ],
   "source": [
    "sns.boxplot(data= df1,x='vehicle_type',y='speeding_violations')"
   ]
  },
  {
   "cell_type": "markdown",
   "metadata": {
    "id": "zaWFcofnC5pC"
   },
   "source": [
    "**group have 20-29 years of driving experince\n",
    "\n",
    "1) In this specific group, around 4% customers drives sports car. \n",
    "2) In the specific group, Average speeding violation appears same as 2 for both sports and non-sport car drivers.\n",
    "3) In this specific goup the claims static is diffrent than rest of the dataset, In this group customers with non-sport\n",
    "   cars have claimed more number of times than thos having sport cars. "
   ]
  },
  {
   "cell_type": "code",
   "execution_count": null,
   "metadata": {
    "id": "1SF7KvQgC5pC"
   },
   "outputs": [],
   "source": []
  },
  {
   "cell_type": "code",
   "execution_count": 35,
   "metadata": {
    "id": "0cJuBeglC5pC"
   },
   "outputs": [],
   "source": [
    "#Que:4 What is standard deviation in annual mileage ?"
   ]
  },
  {
   "cell_type": "code",
   "execution_count": 36,
   "metadata": {
    "colab": {
     "base_uri": "https://localhost:8080/"
    },
    "id": "hxI6LcpxC5pE",
    "outputId": "9a9126a5-3785-41fc-84dd-8f671279a5b6"
   },
   "outputs": [
    {
     "data": {
      "text/plain": [
       "count     9043.000000\n",
       "mean     11697.003207\n",
       "std       2818.434528\n",
       "min       2000.000000\n",
       "25%      10000.000000\n",
       "50%      12000.000000\n",
       "75%      14000.000000\n",
       "max      22000.000000\n",
       "Name: annual_mileage, dtype: float64"
      ]
     },
     "execution_count": 36,
     "metadata": {},
     "output_type": "execute_result"
    }
   ],
   "source": [
    "#Note : feature annual mileage has rows with missing data. That should be dealth with while fitting the data to model. \n",
    "\n",
    "df['annual_mileage'].describe()"
   ]
  },
  {
   "cell_type": "code",
   "execution_count": 37,
   "metadata": {
    "id": "XWqgk7z2C5pF"
   },
   "outputs": [],
   "source": [
    "a = np.std(df['annual_mileage'])"
   ]
  },
  {
   "cell_type": "code",
   "execution_count": 38,
   "metadata": {
    "colab": {
     "base_uri": "https://localhost:8080/"
    },
    "id": "KFf8O16CC5pF",
    "outputId": "ef4d7335-ac37-4fa1-d377-743017e2d432"
   },
   "outputs": [
    {
     "name": "stdout",
     "output_type": "stream",
     "text": [
      "Standard Deviation of feature annual mileage is 2818\n"
     ]
    }
   ],
   "source": [
    "print(f'Standard Deviation of feature annual mileage is {round(a)}')"
   ]
  },
  {
   "cell_type": "code",
   "execution_count": 39,
   "metadata": {
    "colab": {
     "base_uri": "https://localhost:8080/",
     "height": 297
    },
    "id": "_yYhcUzMC5pG",
    "outputId": "cc51dbf0-90bd-4945-e713-3f5592f942ab"
   },
   "outputs": [
    {
     "data": {
      "text/plain": [
       "<matplotlib.axes._subplots.AxesSubplot at 0x23feeef5310>"
      ]
     },
     "execution_count": 39,
     "metadata": {},
     "output_type": "execute_result"
    },
    {
     "data": {
      "image/png": "[encoded data removed]",
      "text/plain": [
       "<Figure size 432x288 with 1 Axes>"
      ]
     },
     "metadata": {
      "needs_background": "light"
     },
     "output_type": "display_data"
    }
   ],
   "source": [
    "sns.distplot(df['annual_mileage'],bins=10,kde=True)"
   ]
  },
  {
   "cell_type": "markdown",
   "metadata": {
    "id": "qtel7T34C5pG"
   },
   "source": [
    "The column annual mileage distribution of value is almost normally distributed before filling the missing values. \n",
    "Afterward filling the missing data the static of distribution might change while serving data to model. "
   ]
  },
  {
   "cell_type": "code",
   "execution_count": null,
   "metadata": {
    "id": "kLfSfgm4C5pI"
   },
   "outputs": [],
   "source": []
  },
  {
   "cell_type": "markdown",
   "metadata": {
    "id": "RPHukioYC5pJ"
   },
   "source": [
    "**Finding the other patterns in the data**"
   ]
  },
  {
   "cell_type": "code",
   "execution_count": 40,
   "metadata": {
    "id": "cFqehm1oC5pK"
   },
   "outputs": [],
   "source": [
    "#3. How does the number of claims vary between postcodes? "
   ]
  },
  {
   "cell_type": "code",
   "execution_count": 41,
   "metadata": {
    "id": "IxJz5cpWC5pL"
   },
   "outputs": [],
   "source": [
    "df['outcome'] = df['outcome'].replace((True),int(1))\n",
    "df['outcome'] = df['outcome'].replace((False),int(0))"
   ]
  },
  {
   "cell_type": "code",
   "execution_count": 42,
   "metadata": {
    "id": "YYb025zXC5pM"
   },
   "outputs": [],
   "source": [
    "df.outcome = df.outcome.astype('int64')"
   ]
  },
  {
   "cell_type": "code",
   "execution_count": 43,
   "metadata": {
    "colab": {
     "base_uri": "https://localhost:8080/"
    },
    "id": "gF8vp566C5pM",
    "outputId": "6fa6ceaa-bdcc-4a01-864a-639af03235f7"
   },
   "outputs": [
    {
     "data": {
      "text/plain": [
       "10238    6940\n",
       "32765    2456\n",
       "92101     484\n",
       "21217     120\n",
       "Name: postal_code, dtype: int64"
      ]
     },
     "execution_count": 43,
     "metadata": {},
     "output_type": "execute_result"
    }
   ],
   "source": [
    "df.postal_code.value_counts()"
   ]
  },
  {
   "cell_type": "code",
   "execution_count": 44,
   "metadata": {
    "colab": {
     "base_uri": "https://localhost:8080/"
    },
    "id": "kvr2a3PJC5pN",
    "outputId": "122ac758-5b83-43a0-bc49-915a43344261"
   },
   "outputs": [
    {
     "name": "stdout",
     "output_type": "stream",
     "text": [
      "Portion of claiming customers from post code 10238 is 60% out of all claiming customers\n",
      "This maximum claiming percentage from any postcode area\n"
     ]
    }
   ],
   "source": [
    "df_x = df[ (df['postal_code'] == 10238) & (df['outcome'] == 1) ]\n",
    "\n",
    "df_y =  df[df['outcome'] == 1 ]\n",
    "\n",
    "len(df_x) / len(df_y) * 100\n",
    "\n",
    "print(f'Portion of claiming customers from post code 10238 is {int(len(df_x) / len(df_y) * 100)}% out of all claiming customers\\nThis maximum claiming percentage from any postcode area')"
   ]
  },
  {
   "cell_type": "code",
   "execution_count": null,
   "metadata": {
    "id": "B943QTXcC5pO"
   },
   "outputs": [],
   "source": []
  },
  {
   "cell_type": "code",
   "execution_count": 45,
   "metadata": {
    "colab": {
     "base_uri": "https://localhost:8080/"
    },
    "id": "Q2A-DPOZC5pP",
    "outputId": "0cdbbc51-8cf2-4457-dbc3-c0e0d9de8bc3"
   },
   "outputs": [
    {
     "name": "stdout",
     "output_type": "stream",
     "text": [
      "Portion of claiming customers from post code 21217 is 3% out of all claiming customers\n",
      "This minimum claiming percentage from any postcode area\n"
     ]
    }
   ],
   "source": [
    "df_z = df[ (df['postal_code'] == 21217) & (df['outcome'] == 1) ]\n",
    "\n",
    "len(df_z) / len(df_y) * 100\n",
    "\n",
    "print(f'Portion of claiming customers from post code 21217 is {int(len(df_z) / len(df_y) * 100)}% out of all claiming customers\\nThis minimum claiming percentage from any postcode area')"
   ]
  },
  {
   "cell_type": "code",
   "execution_count": 46,
   "metadata": {
    "colab": {
     "base_uri": "https://localhost:8080/",
     "height": 406
    },
    "id": "dhrj8Sf4C5pQ",
    "outputId": "cf19f6ca-d74c-4dcb-96d9-325da555f1fa"
   },
   "outputs": [
    {
     "data": {
      "text/plain": [
       "<matplotlib.axes._subplots.AxesSubplot at 0x23feeed5520>"
      ]
     },
     "execution_count": 46,
     "metadata": {},
     "output_type": "execute_result"
    },
    {
     "data": {
      "image/png": "[encoded data removed]",
      "text/plain": [
       "<Figure size 432x432 with 1 Axes>"
      ]
     },
     "metadata": {
      "needs_background": "light"
     },
     "output_type": "display_data"
    }
   ],
   "source": [
    "##Percentage of claiming customers on diffrent postal codes\n",
    "\n",
    "plt.figure(figsize=(6,6))\n",
    "sns.countplot('postal_code',hue='outcome',data=df)"
   ]
  },
  {
   "cell_type": "code",
   "execution_count": 47,
   "metadata": {
    "id": "rOcXOLwXC5pQ"
   },
   "outputs": [],
   "source": [
    "#A clear diffrence can be splot when we compare postal code 10238 with other postal code with feature married. "
   ]
  },
  {
   "cell_type": "code",
   "execution_count": 48,
   "metadata": {
    "colab": {
     "base_uri": "https://localhost:8080/"
    },
    "id": "qhssqm9UC5pR",
    "outputId": "c924fd42-06b6-4c32-c81a-a65168a0958f"
   },
   "outputs": [
    {
     "data": {
      "text/plain": [
       "0    False\n",
       "dtype: bool"
      ]
     },
     "execution_count": 48,
     "metadata": {},
     "output_type": "execute_result"
    }
   ],
   "source": [
    "df[ (df['postal_code'] == 10238)]['married'].mode()"
   ]
  },
  {
   "cell_type": "code",
   "execution_count": 49,
   "metadata": {
    "colab": {
     "base_uri": "https://localhost:8080/"
    },
    "id": "OJqfzMfAC5pS",
    "outputId": "5a91893b-23ae-419a-d849-05ff7c1877f5"
   },
   "outputs": [
    {
     "data": {
      "text/plain": [
       "0    True\n",
       "dtype: bool"
      ]
     },
     "execution_count": 49,
     "metadata": {},
     "output_type": "execute_result"
    }
   ],
   "source": [
    "df[df['postal_code'] != 10238 ]['married'].mode()"
   ]
  },
  {
   "cell_type": "code",
   "execution_count": 50,
   "metadata": {
    "colab": {
     "base_uri": "https://localhost:8080/",
     "height": 297
    },
    "id": "6rI__Ao_C5pT",
    "outputId": "5698e06e-ac8e-48fa-e20c-940be4bd6ffb"
   },
   "outputs": [
    {
     "data": {
      "text/plain": [
       "<matplotlib.axes._subplots.AxesSubplot at 0x23feef9dcd0>"
      ]
     },
     "execution_count": 50,
     "metadata": {},
     "output_type": "execute_result"
    },
    {
     "data": {
      "image/png": "[encoded data removed]",
      "text/plain": [
       "<Figure size 432x288 with 1 Axes>"
      ]
     },
     "metadata": {
      "needs_background": "light"
     },
     "output_type": "display_data"
    }
   ],
   "source": [
    "sns.countplot('postal_code',hue='married',data=df)"
   ]
  },
  {
   "cell_type": "code",
   "execution_count": 51,
   "metadata": {
    "id": "HPO-iw-cC5pU"
   },
   "outputs": [],
   "source": [
    "# Out of total No. of customers 30% of customer made claim.\n",
    "# Now we check what portion out of that resides at postal code 10238\n",
    "\n",
    "df1 = df[df['outcome'] == 1 ]"
   ]
  },
  {
   "cell_type": "code",
   "execution_count": 52,
   "metadata": {
    "colab": {
     "base_uri": "https://localhost:8080/",
     "height": 428
    },
    "id": "JY3xwe1FC5pV",
    "outputId": "559a4817-8b2f-422b-a1fe-bdfe967de2da"
   },
   "outputs": [
    {
     "data": {
      "text/plain": [
       "<matplotlib.axes._subplots.AxesSubplot at 0x23fee9f36a0>"
      ]
     },
     "execution_count": 52,
     "metadata": {},
     "output_type": "execute_result"
    },
    {
     "data": {
      "image/png": "[encoded data removed]",
      "text/plain": [
       "<Figure size 504x504 with 1 Axes>"
      ]
     },
     "metadata": {},
     "output_type": "display_data"
    }
   ],
   "source": [
    "plt.figure(figsize=(7,7))\n",
    "df1.postal_code.value_counts().plot.pie(autopct=\"%.1f%%\")"
   ]
  },
  {
   "cell_type": "markdown",
   "metadata": {
    "id": "jwyqI-e9C5pW"
   },
   "source": [
    "1) Maximum number of claims has been made from postal code 10238 around 60% of all claims. \n",
    "\n",
    "2) Minimum number of claims has been made from postal code 21217 around 4% of all claims. "
   ]
  },
  {
   "cell_type": "code",
   "execution_count": null,
   "metadata": {
    "id": "z0zn3BpBC5pX"
   },
   "outputs": [],
   "source": []
  },
  {
   "cell_type": "code",
   "execution_count": 53,
   "metadata": {
    "id": "ERH_EsPaC5pY"
   },
   "outputs": [],
   "source": [
    "#Que : 2 What do claimants have in common ?"
   ]
  },
  {
   "cell_type": "code",
   "execution_count": 54,
   "metadata": {
    "id": "lwRnZlFJC5pa"
   },
   "outputs": [],
   "source": [
    "df_comm = df[df['outcome'] == 1]"
   ]
  },
  {
   "cell_type": "code",
   "execution_count": 55,
   "metadata": {
    "colab": {
     "base_uri": "https://localhost:8080/",
     "height": 309
    },
    "id": "sjNDES1JC5pc",
    "outputId": "c3073569-5c91-435d-b9de-91cb0d2605ef"
   },
   "outputs": [
    {
     "data": {
      "text/html": [
       "<div>\n",
       "<style scoped>\n",
       "    .dataframe tbody tr th:only-of-type {\n",
       "        vertical-align: middle;\n",
       "    }\n",
       "\n",
       "    .dataframe tbody tr th {\n",
       "        vertical-align: top;\n",
       "    }\n",
       "\n",
       "    .dataframe thead th {\n",
       "        text-align: right;\n",
       "    }\n",
       "</style>\n",
       "<table border=\"1\" class=\"dataframe\">\n",
       "  <thead>\n",
       "    <tr style=\"text-align: right;\">\n",
       "      <th></th>\n",
       "      <th>id</th>\n",
       "      <th>age</th>\n",
       "      <th>gender</th>\n",
       "      <th>race</th>\n",
       "      <th>driving_experience</th>\n",
       "      <th>education</th>\n",
       "      <th>income</th>\n",
       "      <th>credit_score</th>\n",
       "      <th>vehicle_ownership</th>\n",
       "      <th>vehicle_year</th>\n",
       "      <th>married</th>\n",
       "      <th>children</th>\n",
       "      <th>postal_code</th>\n",
       "      <th>annual_mileage</th>\n",
       "      <th>vehicle_type</th>\n",
       "      <th>speeding_violations</th>\n",
       "      <th>DUIs</th>\n",
       "      <th>past_accidents</th>\n",
       "      <th>outcome</th>\n",
       "    </tr>\n",
       "  </thead>\n",
       "  <tbody>\n",
       "    <tr>\n",
       "      <th>1</th>\n",
       "      <td>750365</td>\n",
       "      <td>16-25</td>\n",
       "      <td>male</td>\n",
       "      <td>majority</td>\n",
       "      <td>0-9y</td>\n",
       "      <td>none</td>\n",
       "      <td>poverty</td>\n",
       "      <td>False</td>\n",
       "      <td>False</td>\n",
       "      <td>before 2015</td>\n",
       "      <td>False</td>\n",
       "      <td>False</td>\n",
       "      <td>10238</td>\n",
       "      <td>16000.0</td>\n",
       "      <td>sedan</td>\n",
       "      <td>0</td>\n",
       "      <td>0</td>\n",
       "      <td>0</td>\n",
       "      <td>1</td>\n",
       "    </tr>\n",
       "    <tr>\n",
       "      <th>4</th>\n",
       "      <td>731664</td>\n",
       "      <td>26-39</td>\n",
       "      <td>male</td>\n",
       "      <td>majority</td>\n",
       "      <td>10-19y</td>\n",
       "      <td>none</td>\n",
       "      <td>working class</td>\n",
       "      <td>False</td>\n",
       "      <td>True</td>\n",
       "      <td>before 2015</td>\n",
       "      <td>False</td>\n",
       "      <td>False</td>\n",
       "      <td>32765</td>\n",
       "      <td>12000.0</td>\n",
       "      <td>sedan</td>\n",
       "      <td>2</td>\n",
       "      <td>0</td>\n",
       "      <td>1</td>\n",
       "      <td>1</td>\n",
       "    </tr>\n",
       "    <tr>\n",
       "      <th>7</th>\n",
       "      <td>461006</td>\n",
       "      <td>26-39</td>\n",
       "      <td>female</td>\n",
       "      <td>majority</td>\n",
       "      <td>0-9y</td>\n",
       "      <td>university</td>\n",
       "      <td>working class</td>\n",
       "      <td>False</td>\n",
       "      <td>False</td>\n",
       "      <td>after 2015</td>\n",
       "      <td>False</td>\n",
       "      <td>True</td>\n",
       "      <td>10238</td>\n",
       "      <td>14000.0</td>\n",
       "      <td>sedan</td>\n",
       "      <td>0</td>\n",
       "      <td>0</td>\n",
       "      <td>0</td>\n",
       "      <td>1</td>\n",
       "    </tr>\n",
       "    <tr>\n",
       "      <th>9</th>\n",
       "      <td>445911</td>\n",
       "      <td>40-64</td>\n",
       "      <td>female</td>\n",
       "      <td>majority</td>\n",
       "      <td>0-9y</td>\n",
       "      <td>high school</td>\n",
       "      <td>upper class</td>\n",
       "      <td>False</td>\n",
       "      <td>True</td>\n",
       "      <td>before 2015</td>\n",
       "      <td>False</td>\n",
       "      <td>True</td>\n",
       "      <td>32765</td>\n",
       "      <td>11000.0</td>\n",
       "      <td>sedan</td>\n",
       "      <td>0</td>\n",
       "      <td>0</td>\n",
       "      <td>0</td>\n",
       "      <td>1</td>\n",
       "    </tr>\n",
       "    <tr>\n",
       "      <th>17</th>\n",
       "      <td>24851</td>\n",
       "      <td>16-25</td>\n",
       "      <td>male</td>\n",
       "      <td>majority</td>\n",
       "      <td>0-9y</td>\n",
       "      <td>none</td>\n",
       "      <td>poverty</td>\n",
       "      <td>False</td>\n",
       "      <td>False</td>\n",
       "      <td>before 2015</td>\n",
       "      <td>True</td>\n",
       "      <td>False</td>\n",
       "      <td>32765</td>\n",
       "      <td>12000.0</td>\n",
       "      <td>sedan</td>\n",
       "      <td>0</td>\n",
       "      <td>0</td>\n",
       "      <td>0</td>\n",
       "      <td>1</td>\n",
       "    </tr>\n",
       "  </tbody>\n",
       "</table>\n",
       "</div>"
      ],
      "text/plain": [
       "        id    age  gender      race driving_experience    education  \\\n",
       "1   750365  16-25    male  majority               0-9y         none   \n",
       "4   731664  26-39    male  majority             10-19y         none   \n",
       "7   461006  26-39  female  majority               0-9y   university   \n",
       "9   445911  40-64  female  majority               0-9y  high school   \n",
       "17   24851  16-25    male  majority               0-9y         none   \n",
       "\n",
       "           income  credit_score  vehicle_ownership vehicle_year  married  \\\n",
       "1         poverty         False              False  before 2015    False   \n",
       "4   working class         False               True  before 2015    False   \n",
       "7   working class         False              False   after 2015    False   \n",
       "9     upper class         False               True  before 2015    False   \n",
       "17        poverty         False              False  before 2015     True   \n",
       "\n",
       "    children  postal_code  annual_mileage vehicle_type  speeding_violations  \\\n",
       "1      False        10238         16000.0        sedan                    0   \n",
       "4      False        32765         12000.0        sedan                    2   \n",
       "7       True        10238         14000.0        sedan                    0   \n",
       "9       True        32765         11000.0        sedan                    0   \n",
       "17     False        32765         12000.0        sedan                    0   \n",
       "\n",
       "    DUIs  past_accidents  outcome  \n",
       "1      0               0        1  \n",
       "4      0               1        1  \n",
       "7      0               0        1  \n",
       "9      0               0        1  \n",
       "17     0               0        1  "
      ]
     },
     "execution_count": 55,
     "metadata": {},
     "output_type": "execute_result"
    }
   ],
   "source": [
    "df_comm.head()"
   ]
  },
  {
   "cell_type": "markdown",
   "metadata": {
    "id": "yFGQGKvDC5pd"
   },
   "source": [
    "Analysing this data featurewise so we can find some common properties between features. "
   ]
  },
  {
   "cell_type": "code",
   "execution_count": 56,
   "metadata": {
    "colab": {
     "base_uri": "https://localhost:8080/",
     "height": 330
    },
    "id": "CICZY-RvC5pe",
    "outputId": "38389088-7b88-4dd9-fa8c-5f9f25ed8388"
   },
   "outputs": [
    {
     "data": {
      "text/plain": [
       "male      1812\n",
       "female    1321\n",
       "Name: gender, dtype: int64"
      ]
     },
     "execution_count": 56,
     "metadata": {},
     "output_type": "execute_result"
    },
    {
     "data": {
      "image/png": "[encoded data removed]",
      "text/plain": [
       "<Figure size 432x288 with 1 Axes>"
      ]
     },
     "metadata": {
      "needs_background": "light"
     },
     "output_type": "display_data"
    }
   ],
   "source": [
    "sns.countplot(df_comm['gender'])\n",
    "df_comm['gender'].value_counts()"
   ]
  },
  {
   "cell_type": "code",
   "execution_count": 57,
   "metadata": {
    "colab": {
     "base_uri": "https://localhost:8080/",
     "height": 365
    },
    "id": "kzoIIgnnC5pe",
    "outputId": "007254d4-0622-4e7f-82a8-77838706a94f"
   },
   "outputs": [
    {
     "data": {
      "text/plain": [
       "0-9y      2217\n",
       "10-19y     787\n",
       "20-29y     109\n",
       "30y+        20\n",
       "Name: driving_experience, dtype: int64"
      ]
     },
     "execution_count": 57,
     "metadata": {},
     "output_type": "execute_result"
    },
    {
     "data": {
      "image/png": "[encoded data removed]",
      "text/plain": [
       "<Figure size 432x288 with 1 Axes>"
      ]
     },
     "metadata": {
      "needs_background": "light"
     },
     "output_type": "display_data"
    }
   ],
   "source": [
    "sns.countplot(df_comm['driving_experience'])\n",
    "df_comm['driving_experience'].value_counts()"
   ]
  },
  {
   "cell_type": "code",
   "execution_count": 58,
   "metadata": {
    "colab": {
     "base_uri": "https://localhost:8080/",
     "height": 331
    },
    "id": "OujEULTXC5pg",
    "outputId": "897ed2f8-ab3f-467a-840c-895dc00a38b4"
   },
   "outputs": [
    {
     "data": {
      "text/plain": [
       "False    1757\n",
       "True     1376\n",
       "Name: vehicle_ownership, dtype: int64"
      ]
     },
     "execution_count": 58,
     "metadata": {},
     "output_type": "execute_result"
    },
    {
     "data": {
      "image/png": "[encoded data removed]",
      "text/plain": [
       "<Figure size 432x288 with 1 Axes>"
      ]
     },
     "metadata": {
      "needs_background": "light"
     },
     "output_type": "display_data"
    }
   ],
   "source": [
    "sns.countplot(df_comm['vehicle_ownership'])\n",
    "df_comm['vehicle_ownership'].value_counts()"
   ]
  },
  {
   "cell_type": "code",
   "execution_count": 59,
   "metadata": {
    "colab": {
     "base_uri": "https://localhost:8080/",
     "height": 331
    },
    "id": "JP1MBw_VC5pg",
    "outputId": "80ac28e6-bd39-44ac-c2aa-5b2cfeeeda6b"
   },
   "outputs": [
    {
     "data": {
      "text/plain": [
       "before 2015    2810\n",
       "after 2015      323\n",
       "Name: vehicle_year, dtype: int64"
      ]
     },
     "execution_count": 59,
     "metadata": {},
     "output_type": "execute_result"
    },
    {
     "data": {
      "image/png": "[encoded data removed]",
      "text/plain": [
       "<Figure size 432x288 with 1 Axes>"
      ]
     },
     "metadata": {
      "needs_background": "light"
     },
     "output_type": "display_data"
    }
   ],
   "source": [
    "sns.countplot(df_comm['vehicle_year'])\n",
    "df_comm['vehicle_year'].value_counts()"
   ]
  },
  {
   "cell_type": "code",
   "execution_count": 60,
   "metadata": {
    "colab": {
     "base_uri": "https://localhost:8080/",
     "height": 350
    },
    "id": "7B05m6mJC5ph",
    "outputId": "688fce87-fee5-4ac4-984a-dc86e1c55e20"
   },
   "outputs": [
    {
     "data": {
      "text/plain": [
       "high school    1344\n",
       "none            903\n",
       "university      886\n",
       "Name: education, dtype: int64"
      ]
     },
     "execution_count": 60,
     "metadata": {},
     "output_type": "execute_result"
    },
    {
     "data": {
      "image/png": "[encoded data removed]",
      "text/plain": [
       "<Figure size 432x288 with 1 Axes>"
      ]
     },
     "metadata": {
      "needs_background": "light"
     },
     "output_type": "display_data"
    }
   ],
   "source": [
    "sns.countplot(df_comm['education'])\n",
    "df_comm['education'].value_counts()"
   ]
  },
  {
   "cell_type": "code",
   "execution_count": 61,
   "metadata": {
    "colab": {
     "base_uri": "https://localhost:8080/",
     "height": 364
    },
    "id": "e4bnn5dbC5pi",
    "outputId": "20adfa1e-33e7-433d-9b32-d050602d68e6"
   },
   "outputs": [
    {
     "data": {
      "text/plain": [
       "16-25    1448\n",
       "26-39    1032\n",
       "40-64     457\n",
       "65+       196\n",
       "Name: age, dtype: int64"
      ]
     },
     "execution_count": 61,
     "metadata": {},
     "output_type": "execute_result"
    },
    {
     "data": {
      "image/png": "[encoded data removed]",
      "text/plain": [
       "<Figure size 432x288 with 1 Axes>"
      ]
     },
     "metadata": {
      "needs_background": "light"
     },
     "output_type": "display_data"
    }
   ],
   "source": [
    "sns.countplot(df_comm['age'])\n",
    "df_comm['age'].value_counts()"
   ]
  },
  {
   "cell_type": "code",
   "execution_count": 62,
   "metadata": {
    "colab": {
     "base_uri": "https://localhost:8080/",
     "height": 364
    },
    "id": "0xtGsY9tC5pj",
    "outputId": "2723cd87-c4a4-436c-e03e-48325b26c139"
   },
   "outputs": [
    {
     "data": {
      "text/plain": [
       "poverty          1186\n",
       "working class     776\n",
       "middle class      592\n",
       "upper class       579\n",
       "Name: income, dtype: int64"
      ]
     },
     "execution_count": 62,
     "metadata": {},
     "output_type": "execute_result"
    },
    {
     "data": {
      "image/png": "[encoded data removed]",
      "text/plain": [
       "<Figure size 432x288 with 1 Axes>"
      ]
     },
     "metadata": {
      "needs_background": "light"
     },
     "output_type": "display_data"
    }
   ],
   "source": [
    "sns.countplot(df_comm['income'])\n",
    "df_comm['income'].value_counts()"
   ]
  },
  {
   "cell_type": "markdown",
   "metadata": {
    "id": "pPx0RO02C5pj"
   },
   "source": [
    "**SUMMERY**\n",
    "\n",
    "1. First we have extracted the data of only those customers who made the claim. \n",
    "2. There are few common or frequent patterns can be detected in fetched dataset columnswised.\n",
    "3. Around 60% of the claiming customers are male.\n",
    "4. Portion of customers with driving experience 0-9 year are noticebale here. 75% of claims are made from the same group. \n",
    "5. About the vehicle ownership, frequent claiming customers were not using the own vehicles. This portion is around 58% of        percent. \n",
    "6. one of the most common observation made on the year of vehicle, Almost all or in numbers more 90% claiming customers using      the vehicle that purchase before year 2015\n",
    "7. There are three classes in education within claiming customers , no education , University level and high school. \n",
    "   Customer educated till high school level made the claim most number of times. 40% claiming customers have completed high        school level.\n",
    "8. In claiming customers, from 16 to 25 year this range is much more common. \n",
    "9. A clear observation can be detect via income class, customer belong to poverty class made 40% portion of claming people. \n",
    "   and minmum no. of time claims made by upper class with around 18%."
   ]
  },
  {
   "cell_type": "code",
   "execution_count": null,
   "metadata": {
    "id": "BrdtIlIZC5pl"
   },
   "outputs": [],
   "source": []
  },
  {
   "cell_type": "code",
   "execution_count": 63,
   "metadata": {
    "id": "gUxddKeWC5pl"
   },
   "outputs": [],
   "source": [
    "#Que:1 Are there any perticular customer type"
   ]
  },
  {
   "cell_type": "code",
   "execution_count": 64,
   "metadata": {
    "colab": {
     "base_uri": "https://localhost:8080/"
    },
    "id": "uFKHJ_9IC5pm",
    "outputId": "e1e1de2b-1a48-4b16-ece5-30b79c94bc22"
   },
   "outputs": [
    {
     "data": {
      "text/plain": [
       "3133"
      ]
     },
     "execution_count": 64,
     "metadata": {},
     "output_type": "execute_result"
    }
   ],
   "source": [
    "#Will check the pattern by reference of outcome, weather that type/group make claim or not\n",
    "\n",
    "\n",
    "df_comm = df[df['outcome'] == 1]\n",
    "\n",
    "len(df_comm)"
   ]
  },
  {
   "cell_type": "code",
   "execution_count": 65,
   "metadata": {
    "id": "9gGa7J2yC5pn"
   },
   "outputs": [],
   "source": [
    "non_claimers = df[(df['gender'] == 'female') & (df['age'] == '65+') & (df['education'] == 'none') & (df['married'] == True) & (df['children'] == True) ]"
   ]
  },
  {
   "cell_type": "code",
   "execution_count": 66,
   "metadata": {
    "colab": {
     "base_uri": "https://localhost:8080/"
    },
    "id": "tx-SPAoXC5po",
    "outputId": "7dd14fe4-c774-4db2-d287-1aadb4210b3d"
   },
   "outputs": [
    {
     "data": {
      "text/plain": [
       "48"
      ]
     },
     "execution_count": 66,
     "metadata": {},
     "output_type": "execute_result"
    }
   ],
   "source": [
    "len(non_claimers)"
   ]
  },
  {
   "cell_type": "code",
   "execution_count": 67,
   "metadata": {
    "colab": {
     "base_uri": "https://localhost:8080/",
     "height": 165
    },
    "id": "Q7mhnLZcC5pp",
    "outputId": "722b8a2b-246a-4707-8322-ed33a8d77376"
   },
   "outputs": [
    {
     "data": {
      "text/html": [
       "<div>\n",
       "<style scoped>\n",
       "    .dataframe tbody tr th:only-of-type {\n",
       "        vertical-align: middle;\n",
       "    }\n",
       "\n",
       "    .dataframe tbody tr th {\n",
       "        vertical-align: top;\n",
       "    }\n",
       "\n",
       "    .dataframe thead th {\n",
       "        text-align: right;\n",
       "    }\n",
       "</style>\n",
       "<table border=\"1\" class=\"dataframe\">\n",
       "  <thead>\n",
       "    <tr style=\"text-align: right;\">\n",
       "      <th></th>\n",
       "      <th>id</th>\n",
       "      <th>age</th>\n",
       "      <th>gender</th>\n",
       "      <th>race</th>\n",
       "      <th>driving_experience</th>\n",
       "      <th>education</th>\n",
       "      <th>income</th>\n",
       "      <th>credit_score</th>\n",
       "      <th>vehicle_ownership</th>\n",
       "      <th>vehicle_year</th>\n",
       "      <th>married</th>\n",
       "      <th>children</th>\n",
       "      <th>postal_code</th>\n",
       "      <th>annual_mileage</th>\n",
       "      <th>vehicle_type</th>\n",
       "      <th>speeding_violations</th>\n",
       "      <th>DUIs</th>\n",
       "      <th>past_accidents</th>\n",
       "      <th>outcome</th>\n",
       "    </tr>\n",
       "  </thead>\n",
       "  <tbody>\n",
       "    <tr>\n",
       "      <th>7771</th>\n",
       "      <td>71379</td>\n",
       "      <td>65+</td>\n",
       "      <td>female</td>\n",
       "      <td>minority</td>\n",
       "      <td>0-9y</td>\n",
       "      <td>none</td>\n",
       "      <td>upper class</td>\n",
       "      <td>False</td>\n",
       "      <td>True</td>\n",
       "      <td>before 2015</td>\n",
       "      <td>True</td>\n",
       "      <td>True</td>\n",
       "      <td>32765</td>\n",
       "      <td>8000.0</td>\n",
       "      <td>sedan</td>\n",
       "      <td>0</td>\n",
       "      <td>0</td>\n",
       "      <td>0</td>\n",
       "      <td>1</td>\n",
       "    </tr>\n",
       "    <tr>\n",
       "      <th>8749</th>\n",
       "      <td>91470</td>\n",
       "      <td>65+</td>\n",
       "      <td>female</td>\n",
       "      <td>minority</td>\n",
       "      <td>0-9y</td>\n",
       "      <td>none</td>\n",
       "      <td>working class</td>\n",
       "      <td>False</td>\n",
       "      <td>False</td>\n",
       "      <td>before 2015</td>\n",
       "      <td>True</td>\n",
       "      <td>True</td>\n",
       "      <td>10238</td>\n",
       "      <td>9000.0</td>\n",
       "      <td>sedan</td>\n",
       "      <td>0</td>\n",
       "      <td>0</td>\n",
       "      <td>0</td>\n",
       "      <td>1</td>\n",
       "    </tr>\n",
       "  </tbody>\n",
       "</table>\n",
       "</div>"
      ],
      "text/plain": [
       "         id  age  gender      race driving_experience education  \\\n",
       "7771  71379  65+  female  minority               0-9y      none   \n",
       "8749  91470  65+  female  minority               0-9y      none   \n",
       "\n",
       "             income  credit_score  vehicle_ownership vehicle_year  married  \\\n",
       "7771    upper class         False               True  before 2015     True   \n",
       "8749  working class         False              False  before 2015     True   \n",
       "\n",
       "      children  postal_code  annual_mileage vehicle_type  speeding_violations  \\\n",
       "7771      True        32765          8000.0        sedan                    0   \n",
       "8749      True        10238          9000.0        sedan                    0   \n",
       "\n",
       "      DUIs  past_accidents  outcome  \n",
       "7771     0               0        1  \n",
       "8749     0               0        1  "
      ]
     },
     "execution_count": 67,
     "metadata": {},
     "output_type": "execute_result"
    }
   ],
   "source": [
    "non_claimers[non_claimers['outcome'] == 1]"
   ]
  },
  {
   "cell_type": "code",
   "execution_count": 68,
   "metadata": {
    "colab": {
     "base_uri": "https://localhost:8080/"
    },
    "id": "O4uajc27C5pr",
    "outputId": "61fd21f0-5295-4a77-b168-baf3795adc1f"
   },
   "outputs": [
    {
     "name": "stdout",
     "output_type": "stream",
     "text": [
      "Only 4% of customer claims who belongs to this type.\n"
     ]
    }
   ],
   "source": [
    "a = int(len(non_claimers[non_claimers['outcome'] == 1]) / len(non_claimers) * 100)\n",
    "print(f'Only {a}% of customer claims who belongs to this type.')"
   ]
  },
  {
   "cell_type": "code",
   "execution_count": 69,
   "metadata": {
    "colab": {
     "base_uri": "https://localhost:8080/",
     "height": 428
    },
    "id": "7UkdTwslC5ps",
    "outputId": "b2cb8f89-c495-4773-9702-d533d46b2a44"
   },
   "outputs": [
    {
     "data": {
      "text/plain": [
       "<matplotlib.axes._subplots.AxesSubplot at 0x23feea04d60>"
      ]
     },
     "execution_count": 69,
     "metadata": {},
     "output_type": "execute_result"
    },
    {
     "data": {
      "image/png": "[encoded data removed]",
      "text/plain": [
       "<Figure size 504x504 with 1 Axes>"
      ]
     },
     "metadata": {},
     "output_type": "display_data"
    }
   ],
   "source": [
    "plt.figure(figsize=(7,7,))\n",
    "non_claimers.outcome.value_counts().plot.pie(autopct='%.1f%%')"
   ]
  },
  {
   "cell_type": "markdown",
   "metadata": {
    "id": "d6CKA8BfC5ps"
   },
   "source": [
    "**Intuitivly,following the features and there unique properties, a specific group of customer can be found in data.\n",
    "**name non-claimers as above. These group of customers are females ages from range 39 to 65+ married with children.\n",
    "**Amoung entire dataset, 0.4% customers belongs to same type and only 4% out of them have claimed. "
   ]
  },
  {
   "cell_type": "code",
   "execution_count": null,
   "metadata": {
    "id": "8o4xy03xC5pt"
   },
   "outputs": [],
   "source": []
  },
  {
   "cell_type": "code",
   "execution_count": 70,
   "metadata": {
    "id": "nodLRIr0C5pu"
   },
   "outputs": [],
   "source": [
    "non_claimers2 = df.loc[(df['income'] == 'upper class') & (df['speeding_violations'] > 8) & (df['gender'] == 'male')]"
   ]
  },
  {
   "cell_type": "code",
   "execution_count": 71,
   "metadata": {
    "colab": {
     "base_uri": "https://localhost:8080/",
     "height": 501
    },
    "id": "rJBPt5agC5pv",
    "outputId": "ffd2a0d3-7690-4177-e1b2-5b53c58cfc46"
   },
   "outputs": [
    {
     "data": {
      "text/html": [
       "<div>\n",
       "<style scoped>\n",
       "    .dataframe tbody tr th:only-of-type {\n",
       "        vertical-align: middle;\n",
       "    }\n",
       "\n",
       "    .dataframe tbody tr th {\n",
       "        vertical-align: top;\n",
       "    }\n",
       "\n",
       "    .dataframe thead th {\n",
       "        text-align: right;\n",
       "    }\n",
       "</style>\n",
       "<table border=\"1\" class=\"dataframe\">\n",
       "  <thead>\n",
       "    <tr style=\"text-align: right;\">\n",
       "      <th></th>\n",
       "      <th>id</th>\n",
       "      <th>age</th>\n",
       "      <th>gender</th>\n",
       "      <th>race</th>\n",
       "      <th>driving_experience</th>\n",
       "      <th>education</th>\n",
       "      <th>income</th>\n",
       "      <th>credit_score</th>\n",
       "      <th>vehicle_ownership</th>\n",
       "      <th>vehicle_year</th>\n",
       "      <th>married</th>\n",
       "      <th>children</th>\n",
       "      <th>postal_code</th>\n",
       "      <th>annual_mileage</th>\n",
       "      <th>vehicle_type</th>\n",
       "      <th>speeding_violations</th>\n",
       "      <th>DUIs</th>\n",
       "      <th>past_accidents</th>\n",
       "      <th>outcome</th>\n",
       "    </tr>\n",
       "  </thead>\n",
       "  <tbody>\n",
       "    <tr>\n",
       "      <th>3603</th>\n",
       "      <td>576674</td>\n",
       "      <td>40-64</td>\n",
       "      <td>male</td>\n",
       "      <td>minority</td>\n",
       "      <td>10-19y</td>\n",
       "      <td>university</td>\n",
       "      <td>upper class</td>\n",
       "      <td>False</td>\n",
       "      <td>True</td>\n",
       "      <td>before 2015</td>\n",
       "      <td>True</td>\n",
       "      <td>True</td>\n",
       "      <td>32765</td>\n",
       "      <td>5000.0</td>\n",
       "      <td>sedan</td>\n",
       "      <td>10</td>\n",
       "      <td>0</td>\n",
       "      <td>2</td>\n",
       "      <td>1</td>\n",
       "    </tr>\n",
       "    <tr>\n",
       "      <th>5187</th>\n",
       "      <td>218063</td>\n",
       "      <td>65+</td>\n",
       "      <td>male</td>\n",
       "      <td>majority</td>\n",
       "      <td>30y+</td>\n",
       "      <td>university</td>\n",
       "      <td>upper class</td>\n",
       "      <td>False</td>\n",
       "      <td>True</td>\n",
       "      <td>before 2015</td>\n",
       "      <td>True</td>\n",
       "      <td>True</td>\n",
       "      <td>32765</td>\n",
       "      <td>9000.0</td>\n",
       "      <td>sedan</td>\n",
       "      <td>10</td>\n",
       "      <td>1</td>\n",
       "      <td>3</td>\n",
       "      <td>1</td>\n",
       "    </tr>\n",
       "    <tr>\n",
       "      <th>5272</th>\n",
       "      <td>268143</td>\n",
       "      <td>65+</td>\n",
       "      <td>male</td>\n",
       "      <td>majority</td>\n",
       "      <td>30y+</td>\n",
       "      <td>university</td>\n",
       "      <td>upper class</td>\n",
       "      <td>False</td>\n",
       "      <td>True</td>\n",
       "      <td>before 2015</td>\n",
       "      <td>True</td>\n",
       "      <td>False</td>\n",
       "      <td>32765</td>\n",
       "      <td>12000.0</td>\n",
       "      <td>sedan</td>\n",
       "      <td>11</td>\n",
       "      <td>1</td>\n",
       "      <td>1</td>\n",
       "      <td>1</td>\n",
       "    </tr>\n",
       "    <tr>\n",
       "      <th>5982</th>\n",
       "      <td>277264</td>\n",
       "      <td>65+</td>\n",
       "      <td>male</td>\n",
       "      <td>majority</td>\n",
       "      <td>10-19y</td>\n",
       "      <td>university</td>\n",
       "      <td>upper class</td>\n",
       "      <td>False</td>\n",
       "      <td>True</td>\n",
       "      <td>before 2015</td>\n",
       "      <td>True</td>\n",
       "      <td>True</td>\n",
       "      <td>32765</td>\n",
       "      <td>9000.0</td>\n",
       "      <td>sedan</td>\n",
       "      <td>10</td>\n",
       "      <td>0</td>\n",
       "      <td>2</td>\n",
       "      <td>1</td>\n",
       "    </tr>\n",
       "    <tr>\n",
       "      <th>6741</th>\n",
       "      <td>779801</td>\n",
       "      <td>40-64</td>\n",
       "      <td>male</td>\n",
       "      <td>minority</td>\n",
       "      <td>20-29y</td>\n",
       "      <td>university</td>\n",
       "      <td>upper class</td>\n",
       "      <td>False</td>\n",
       "      <td>False</td>\n",
       "      <td>before 2015</td>\n",
       "      <td>True</td>\n",
       "      <td>True</td>\n",
       "      <td>32765</td>\n",
       "      <td>8000.0</td>\n",
       "      <td>sedan</td>\n",
       "      <td>9</td>\n",
       "      <td>1</td>\n",
       "      <td>2</td>\n",
       "      <td>1</td>\n",
       "    </tr>\n",
       "    <tr>\n",
       "      <th>7842</th>\n",
       "      <td>992127</td>\n",
       "      <td>40-64</td>\n",
       "      <td>male</td>\n",
       "      <td>majority</td>\n",
       "      <td>20-29y</td>\n",
       "      <td>university</td>\n",
       "      <td>upper class</td>\n",
       "      <td>False</td>\n",
       "      <td>True</td>\n",
       "      <td>before 2015</td>\n",
       "      <td>False</td>\n",
       "      <td>False</td>\n",
       "      <td>32765</td>\n",
       "      <td>12000.0</td>\n",
       "      <td>sedan</td>\n",
       "      <td>10</td>\n",
       "      <td>4</td>\n",
       "      <td>2</td>\n",
       "      <td>1</td>\n",
       "    </tr>\n",
       "    <tr>\n",
       "      <th>8050</th>\n",
       "      <td>869862</td>\n",
       "      <td>40-64</td>\n",
       "      <td>male</td>\n",
       "      <td>majority</td>\n",
       "      <td>20-29y</td>\n",
       "      <td>high school</td>\n",
       "      <td>upper class</td>\n",
       "      <td>False</td>\n",
       "      <td>False</td>\n",
       "      <td>before 2015</td>\n",
       "      <td>True</td>\n",
       "      <td>True</td>\n",
       "      <td>32765</td>\n",
       "      <td>6000.0</td>\n",
       "      <td>sedan</td>\n",
       "      <td>11</td>\n",
       "      <td>1</td>\n",
       "      <td>2</td>\n",
       "      <td>1</td>\n",
       "    </tr>\n",
       "    <tr>\n",
       "      <th>8668</th>\n",
       "      <td>182495</td>\n",
       "      <td>65+</td>\n",
       "      <td>male</td>\n",
       "      <td>majority</td>\n",
       "      <td>20-29y</td>\n",
       "      <td>university</td>\n",
       "      <td>upper class</td>\n",
       "      <td>False</td>\n",
       "      <td>True</td>\n",
       "      <td>before 2015</td>\n",
       "      <td>True</td>\n",
       "      <td>True</td>\n",
       "      <td>32765</td>\n",
       "      <td>8000.0</td>\n",
       "      <td>sedan</td>\n",
       "      <td>9</td>\n",
       "      <td>1</td>\n",
       "      <td>4</td>\n",
       "      <td>1</td>\n",
       "    </tr>\n",
       "    <tr>\n",
       "      <th>9391</th>\n",
       "      <td>2698</td>\n",
       "      <td>40-64</td>\n",
       "      <td>male</td>\n",
       "      <td>majority</td>\n",
       "      <td>20-29y</td>\n",
       "      <td>university</td>\n",
       "      <td>upper class</td>\n",
       "      <td>False</td>\n",
       "      <td>True</td>\n",
       "      <td>before 2015</td>\n",
       "      <td>False</td>\n",
       "      <td>True</td>\n",
       "      <td>32765</td>\n",
       "      <td>7000.0</td>\n",
       "      <td>sedan</td>\n",
       "      <td>11</td>\n",
       "      <td>0</td>\n",
       "      <td>2</td>\n",
       "      <td>1</td>\n",
       "    </tr>\n",
       "  </tbody>\n",
       "</table>\n",
       "</div>"
      ],
      "text/plain": [
       "          id    age gender      race driving_experience    education  \\\n",
       "3603  576674  40-64   male  minority             10-19y   university   \n",
       "5187  218063    65+   male  majority               30y+   university   \n",
       "5272  268143    65+   male  majority               30y+   university   \n",
       "5982  277264    65+   male  majority             10-19y   university   \n",
       "6741  779801  40-64   male  minority             20-29y   university   \n",
       "7842  992127  40-64   male  majority             20-29y   university   \n",
       "8050  869862  40-64   male  majority             20-29y  high school   \n",
       "8668  182495    65+   male  majority             20-29y   university   \n",
       "9391    2698  40-64   male  majority             20-29y   university   \n",
       "\n",
       "           income  credit_score  vehicle_ownership vehicle_year  married  \\\n",
       "3603  upper class         False               True  before 2015     True   \n",
       "5187  upper class         False               True  before 2015     True   \n",
       "5272  upper class         False               True  before 2015     True   \n",
       "5982  upper class         False               True  before 2015     True   \n",
       "6741  upper class         False              False  before 2015     True   \n",
       "7842  upper class         False               True  before 2015    False   \n",
       "8050  upper class         False              False  before 2015     True   \n",
       "8668  upper class         False               True  before 2015     True   \n",
       "9391  upper class         False               True  before 2015    False   \n",
       "\n",
       "      children  postal_code  annual_mileage vehicle_type  speeding_violations  \\\n",
       "3603      True        32765          5000.0        sedan                   10   \n",
       "5187      True        32765          9000.0        sedan                   10   \n",
       "5272     False        32765         12000.0        sedan                   11   \n",
       "5982      True        32765          9000.0        sedan                   10   \n",
       "6741      True        32765          8000.0        sedan                    9   \n",
       "7842     False        32765         12000.0        sedan                   10   \n",
       "8050      True        32765          6000.0        sedan                   11   \n",
       "8668      True        32765          8000.0        sedan                    9   \n",
       "9391      True        32765          7000.0        sedan                   11   \n",
       "\n",
       "      DUIs  past_accidents  outcome  \n",
       "3603     0               2        1  \n",
       "5187     1               3        1  \n",
       "5272     1               1        1  \n",
       "5982     0               2        1  \n",
       "6741     1               2        1  \n",
       "7842     4               2        1  \n",
       "8050     1               2        1  \n",
       "8668     1               4        1  \n",
       "9391     0               2        1  "
      ]
     },
     "execution_count": 71,
     "metadata": {},
     "output_type": "execute_result"
    }
   ],
   "source": [
    "non_claimers2[non_claimers2['outcome'] == 1]"
   ]
  },
  {
   "cell_type": "code",
   "execution_count": 72,
   "metadata": {
    "colab": {
     "base_uri": "https://localhost:8080/"
    },
    "id": "mm_3-l76C5pv",
    "outputId": "b14081ee-6ddb-4ec6-81bb-96ed38272d19"
   },
   "outputs": [
    {
     "data": {
      "text/plain": [
       "137"
      ]
     },
     "execution_count": 72,
     "metadata": {},
     "output_type": "execute_result"
    }
   ],
   "source": [
    "len(non_claimers2)"
   ]
  },
  {
   "cell_type": "code",
   "execution_count": 73,
   "metadata": {
    "colab": {
     "base_uri": "https://localhost:8080/",
     "height": 428
    },
    "id": "SuM2lcrPC5pw",
    "outputId": "fb63d97f-5d51-41e1-ead2-ccf6ad25b895"
   },
   "outputs": [
    {
     "data": {
      "text/plain": [
       "<matplotlib.axes._subplots.AxesSubplot at 0x23fee9c4be0>"
      ]
     },
     "execution_count": 73,
     "metadata": {},
     "output_type": "execute_result"
    },
    {
     "data": {
      "image/png": "[encoded data removed]",
      "text/plain": [
       "<Figure size 504x504 with 1 Axes>"
      ]
     },
     "metadata": {},
     "output_type": "display_data"
    }
   ],
   "source": [
    "plt.figure(figsize=(7,7))\n",
    "non_claimers2['outcome'].value_counts().plot.pie(autopct='%.1f%%')"
   ]
  },
  {
   "cell_type": "markdown",
   "metadata": {
    "id": "AMt80e16C5px"
   },
   "source": [
    "**The other group of customer names as non-claimers2. \n",
    "**These customers are males with income status upper class and attempted speeding violations 10 or more times. \n",
    "**Around 1.5% of customers belong to the same group. \n",
    "** The "
   ]
  },
  {
   "cell_type": "code",
   "execution_count": 74,
   "metadata": {
    "id": "w1ikLw8eC5px"
   },
   "outputs": [],
   "source": [
    "claimers = df[(df['gender'] == 'male') & (df['education'] == 'high school')  & (df['income'] == 'poverty') & (df['vehicle_ownership'] == False) & (df['vehicle_year'] == 'before 2015')] "
   ]
  },
  {
   "cell_type": "code",
   "execution_count": 75,
   "metadata": {
    "colab": {
     "base_uri": "https://localhost:8080/"
    },
    "id": "V7nm5KlPC5py",
    "outputId": "59cd0264-96a7-4889-bef4-01e2709fffc4"
   },
   "outputs": [
    {
     "data": {
      "text/plain": [
       "200"
      ]
     },
     "execution_count": 75,
     "metadata": {},
     "output_type": "execute_result"
    }
   ],
   "source": [
    "len(claimers)"
   ]
  },
  {
   "cell_type": "code",
   "execution_count": 76,
   "metadata": {
    "colab": {
     "base_uri": "https://localhost:8080/",
     "height": 428
    },
    "id": "paCBjRqQC5py",
    "outputId": "dce3753f-9752-44d5-968c-83363ae2d398"
   },
   "outputs": [
    {
     "data": {
      "text/plain": [
       "<matplotlib.axes._subplots.AxesSubplot at 0x23feed9b130>"
      ]
     },
     "execution_count": 76,
     "metadata": {},
     "output_type": "execute_result"
    },
    {
     "data": {
      "image/png": "[encoded data removed]",
      "text/plain": [
       "<Figure size 504x504 with 1 Axes>"
      ]
     },
     "metadata": {},
     "output_type": "display_data"
    }
   ],
   "source": [
    "plt.figure(figsize=(7,7,))\n",
    "claimers.outcome.value_counts().plot.pie(autopct='%.1f%%')"
   ]
  },
  {
   "cell_type": "markdown",
   "metadata": {
    "id": "-Q16Xf_EC5pz"
   },
   "source": [
    "*The third type of the customers,they here frequent in making claims hence names claimers. *This group contributes around 2% of the population in entire dataset. *A large portion that is up to 86% of customers of this group made the claims. *The patter this customer follows could be useful in predicting the upcoming customers outcome."
   ]
  },
  {
   "cell_type": "code",
   "execution_count": null,
   "metadata": {
    "id": "VxHE_PQWC5pz"
   },
   "outputs": [],
   "source": []
  },
  {
   "cell_type": "code",
   "execution_count": 77,
   "metadata": {
    "id": "4dMTgOhsC5pz"
   },
   "outputs": [],
   "source": [
    "##Other finding in dataset"
   ]
  },
  {
   "cell_type": "code",
   "execution_count": 78,
   "metadata": {
    "id": "En-fJB7cC5p0"
   },
   "outputs": [],
   "source": [
    "Claim_mean = (df.groupby('speeding_violations', as_index=False)['outcome'].mean())"
   ]
  },
  {
   "cell_type": "code",
   "execution_count": 79,
   "metadata": {
    "colab": {
     "base_uri": "https://localhost:8080/",
     "height": 280
    },
    "id": "wxFSeevmC5p0",
    "outputId": "20fe239f-0945-4c5b-ea02-54d4c51d2007"
   },
   "outputs": [
    {
     "data": {
      "image/png": "[encoded data removed]",
      "text/plain": [
       "<Figure size 432x288 with 1 Axes>"
      ]
     },
     "metadata": {
      "needs_background": "light"
     },
     "output_type": "display_data"
    }
   ],
   "source": [
    "ax = Claim_mean.plot.bar(x='speeding_violations', y='outcome', rot=0)"
   ]
  },
  {
   "cell_type": "code",
   "execution_count": 80,
   "metadata": {
    "colab": {
     "base_uri": "https://localhost:8080/",
     "height": 297
    },
    "id": "QGFW32syC5p1",
    "outputId": "ca963291-b947-481f-b0fd-402ec7ca6e3f"
   },
   "outputs": [
    {
     "data": {
      "text/plain": [
       "<matplotlib.axes._subplots.AxesSubplot at 0x23fefff7c70>"
      ]
     },
     "execution_count": 80,
     "metadata": {},
     "output_type": "execute_result"
    },
    {
     "data": {
      "image/png": "[encoded data removed]",
      "text/plain": [
       "<Figure size 432x288 with 1 Axes>"
      ]
     },
     "metadata": {
      "needs_background": "light"
     },
     "output_type": "display_data"
    }
   ],
   "source": [
    "sns.countplot(df['vehicle_ownership'],hue=df['outcome'])"
   ]
  },
  {
   "cell_type": "code",
   "execution_count": 81,
   "metadata": {
    "colab": {
     "base_uri": "https://localhost:8080/",
     "height": 297
    },
    "id": "hf7ffoORC5p2",
    "outputId": "63a778f3-28b4-440d-8b9b-24ed13a9b0ca"
   },
   "outputs": [
    {
     "data": {
      "text/plain": [
       "<matplotlib.axes._subplots.AxesSubplot at 0x23ff00489a0>"
      ]
     },
     "execution_count": 81,
     "metadata": {},
     "output_type": "execute_result"
    },
    {
     "data": {
      "image/png": "[encoded data removed]",
      "text/plain": [
       "<Figure size 432x288 with 1 Axes>"
      ]
     },
     "metadata": {
      "needs_background": "light"
     },
     "output_type": "display_data"
    }
   ],
   "source": [
    "sns.countplot(df['vehicle_year'],hue=df['outcome'])"
   ]
  },
  {
   "cell_type": "code",
   "execution_count": 82,
   "metadata": {
    "colab": {
     "base_uri": "https://localhost:8080/",
     "height": 296
    },
    "id": "ay-EjZHhC5p3",
    "outputId": "a1febe9d-21e0-4032-8cae-6d6d88439445"
   },
   "outputs": [
    {
     "data": {
      "text/plain": [
       "<matplotlib.axes._subplots.AxesSubplot at 0x23ff00a31f0>"
      ]
     },
     "execution_count": 82,
     "metadata": {},
     "output_type": "execute_result"
    },
    {
     "data": {
      "image/png": "[encoded data removed]",
      "text/plain": [
       "<Figure size 432x288 with 1 Axes>"
      ]
     },
     "metadata": {
      "needs_background": "light"
     },
     "output_type": "display_data"
    }
   ],
   "source": [
    "sns.countplot(df['income'],hue=df['outcome'])"
   ]
  },
  {
   "cell_type": "code",
   "execution_count": 83,
   "metadata": {
    "id": "c0mWqn6VC5p4"
   },
   "outputs": [],
   "source": [
    "df_01 = df[['driving_experience','income','credit_score','vehicle_year','postal_code','annual_mileage','outcome']]"
   ]
  },
  {
   "cell_type": "code",
   "execution_count": 84,
   "metadata": {
    "colab": {
     "base_uri": "https://localhost:8080/",
     "height": 567
    },
    "id": "hFIzep1pC5p5",
    "outputId": "3bd98cec-4ebe-4cc5-8617-955ebb9af98a"
   },
   "outputs": [
    {
     "data": {
      "text/plain": [
       "<seaborn.axisgrid.PairGrid at 0x23ff01157f0>"
      ]
     },
     "execution_count": 84,
     "metadata": {},
     "output_type": "execute_result"
    },
    {
     "data": {
      "image/png": "[encoded data removed]",
      "text/plain": [
       "<Figure size 591.5x540 with 12 Axes>"
      ]
     },
     "metadata": {
      "needs_background": "light"
     },
     "output_type": "display_data"
    }
   ],
   "source": [
    "sns.pairplot(df_01,hue='outcome')"
   ]
  },
  {
   "cell_type": "markdown",
   "metadata": {
    "id": "B1_xnxjbC5p7"
   },
   "source": [
    "** Data preprocessing and cleaning"
   ]
  },
  {
   "cell_type": "code",
   "execution_count": 85,
   "metadata": {
    "colab": {
     "base_uri": "https://localhost:8080/",
     "height": 941
    },
    "id": "txVWLJEtC5p8",
    "outputId": "4c993d99-5369-450e-c8ba-f633b35763c1",
    "scrolled": false
   },
   "outputs": [
    {
     "data": {
      "image/png": "[encoded data removed]",
      "text/plain": [
       "<Figure size 1440x1440 with 8 Axes>"
      ]
     },
     "metadata": {
      "needs_background": "light"
     },
     "output_type": "display_data"
    }
   ],
   "source": [
    "##Checking for outliers in the features\n",
    "\n",
    "df.plot(kind='box', subplots=True, layout=(2,4), sharex=False, sharey=False, figsize=(20,20),color='blue')\n",
    "plt.show()"
   ]
  },
  {
   "cell_type": "code",
   "execution_count": 86,
   "metadata": {
    "id": "IK9i-2FtC5p9"
   },
   "outputs": [],
   "source": [
    "###Features credit_score and annual mileage have missing values.\n",
    "### We fill up those values using the Iterative imputer"
   ]
  },
  {
   "cell_type": "code",
   "execution_count": 87,
   "metadata": {
    "id": "p-gM8MueC5p9"
   },
   "outputs": [],
   "source": [
    "from sklearn.experimental import enable_iterative_imputer\n",
    "from sklearn.impute import IterativeImputer"
   ]
  },
  {
   "cell_type": "code",
   "execution_count": 88,
   "metadata": {
    "id": "E6LSJafWC5p-"
   },
   "outputs": [],
   "source": [
    "##Separte the data into two categories 1) Numerical and 2) catagorical data"
   ]
  },
  {
   "cell_type": "code",
   "execution_count": 89,
   "metadata": {
    "colab": {
     "base_uri": "https://localhost:8080/",
     "height": 439
    },
    "id": "7DkU9EWiC5p_",
    "outputId": "a25489e7-fff7-4db6-8a9e-197e4250e44c"
   },
   "outputs": [
    {
     "data": {
      "text/html": [
       "<div>\n",
       "<style scoped>\n",
       "    .dataframe tbody tr th:only-of-type {\n",
       "        vertical-align: middle;\n",
       "    }\n",
       "\n",
       "    .dataframe tbody tr th {\n",
       "        vertical-align: top;\n",
       "    }\n",
       "\n",
       "    .dataframe thead th {\n",
       "        text-align: right;\n",
       "    }\n",
       "</style>\n",
       "<table border=\"1\" class=\"dataframe\">\n",
       "  <thead>\n",
       "    <tr style=\"text-align: right;\">\n",
       "      <th></th>\n",
       "      <th>id</th>\n",
       "      <th>credit_score</th>\n",
       "      <th>vehicle_ownership</th>\n",
       "      <th>married</th>\n",
       "      <th>children</th>\n",
       "      <th>postal_code</th>\n",
       "      <th>annual_mileage</th>\n",
       "      <th>speeding_violations</th>\n",
       "      <th>DUIs</th>\n",
       "      <th>past_accidents</th>\n",
       "      <th>outcome</th>\n",
       "    </tr>\n",
       "  </thead>\n",
       "  <tbody>\n",
       "    <tr>\n",
       "      <th>0</th>\n",
       "      <td>569520</td>\n",
       "      <td>False</td>\n",
       "      <td>True</td>\n",
       "      <td>False</td>\n",
       "      <td>True</td>\n",
       "      <td>10238</td>\n",
       "      <td>12000.0</td>\n",
       "      <td>0</td>\n",
       "      <td>0</td>\n",
       "      <td>0</td>\n",
       "      <td>0</td>\n",
       "    </tr>\n",
       "    <tr>\n",
       "      <th>1</th>\n",
       "      <td>750365</td>\n",
       "      <td>False</td>\n",
       "      <td>False</td>\n",
       "      <td>False</td>\n",
       "      <td>False</td>\n",
       "      <td>10238</td>\n",
       "      <td>16000.0</td>\n",
       "      <td>0</td>\n",
       "      <td>0</td>\n",
       "      <td>0</td>\n",
       "      <td>1</td>\n",
       "    </tr>\n",
       "    <tr>\n",
       "      <th>2</th>\n",
       "      <td>199901</td>\n",
       "      <td>False</td>\n",
       "      <td>True</td>\n",
       "      <td>False</td>\n",
       "      <td>False</td>\n",
       "      <td>10238</td>\n",
       "      <td>11000.0</td>\n",
       "      <td>0</td>\n",
       "      <td>0</td>\n",
       "      <td>0</td>\n",
       "      <td>0</td>\n",
       "    </tr>\n",
       "    <tr>\n",
       "      <th>3</th>\n",
       "      <td>478866</td>\n",
       "      <td>False</td>\n",
       "      <td>True</td>\n",
       "      <td>False</td>\n",
       "      <td>True</td>\n",
       "      <td>32765</td>\n",
       "      <td>11000.0</td>\n",
       "      <td>0</td>\n",
       "      <td>0</td>\n",
       "      <td>0</td>\n",
       "      <td>0</td>\n",
       "    </tr>\n",
       "    <tr>\n",
       "      <th>4</th>\n",
       "      <td>731664</td>\n",
       "      <td>False</td>\n",
       "      <td>True</td>\n",
       "      <td>False</td>\n",
       "      <td>False</td>\n",
       "      <td>32765</td>\n",
       "      <td>12000.0</td>\n",
       "      <td>2</td>\n",
       "      <td>0</td>\n",
       "      <td>1</td>\n",
       "      <td>1</td>\n",
       "    </tr>\n",
       "    <tr>\n",
       "      <th>...</th>\n",
       "      <td>...</td>\n",
       "      <td>...</td>\n",
       "      <td>...</td>\n",
       "      <td>...</td>\n",
       "      <td>...</td>\n",
       "      <td>...</td>\n",
       "      <td>...</td>\n",
       "      <td>...</td>\n",
       "      <td>...</td>\n",
       "      <td>...</td>\n",
       "      <td>...</td>\n",
       "    </tr>\n",
       "    <tr>\n",
       "      <th>9995</th>\n",
       "      <td>323164</td>\n",
       "      <td>False</td>\n",
       "      <td>True</td>\n",
       "      <td>False</td>\n",
       "      <td>False</td>\n",
       "      <td>10238</td>\n",
       "      <td>16000.0</td>\n",
       "      <td>0</td>\n",
       "      <td>0</td>\n",
       "      <td>1</td>\n",
       "      <td>0</td>\n",
       "    </tr>\n",
       "    <tr>\n",
       "      <th>9996</th>\n",
       "      <td>910346</td>\n",
       "      <td>False</td>\n",
       "      <td>True</td>\n",
       "      <td>False</td>\n",
       "      <td>True</td>\n",
       "      <td>32765</td>\n",
       "      <td>NaN</td>\n",
       "      <td>1</td>\n",
       "      <td>0</td>\n",
       "      <td>0</td>\n",
       "      <td>0</td>\n",
       "    </tr>\n",
       "    <tr>\n",
       "      <th>9997</th>\n",
       "      <td>468409</td>\n",
       "      <td>False</td>\n",
       "      <td>True</td>\n",
       "      <td>False</td>\n",
       "      <td>True</td>\n",
       "      <td>10238</td>\n",
       "      <td>14000.0</td>\n",
       "      <td>0</td>\n",
       "      <td>0</td>\n",
       "      <td>0</td>\n",
       "      <td>0</td>\n",
       "    </tr>\n",
       "    <tr>\n",
       "      <th>9998</th>\n",
       "      <td>903459</td>\n",
       "      <td>False</td>\n",
       "      <td>False</td>\n",
       "      <td>False</td>\n",
       "      <td>True</td>\n",
       "      <td>10238</td>\n",
       "      <td>13000.0</td>\n",
       "      <td>2</td>\n",
       "      <td>0</td>\n",
       "      <td>1</td>\n",
       "      <td>1</td>\n",
       "    </tr>\n",
       "    <tr>\n",
       "      <th>9999</th>\n",
       "      <td>442696</td>\n",
       "      <td>False</td>\n",
       "      <td>True</td>\n",
       "      <td>True</td>\n",
       "      <td>True</td>\n",
       "      <td>10238</td>\n",
       "      <td>13000.0</td>\n",
       "      <td>0</td>\n",
       "      <td>0</td>\n",
       "      <td>0</td>\n",
       "      <td>0</td>\n",
       "    </tr>\n",
       "  </tbody>\n",
       "</table>\n",
       "<p>10000 rows × 11 columns</p>\n",
       "</div>"
      ],
      "text/plain": [
       "          id  credit_score  vehicle_ownership  married  children  postal_code  \\\n",
       "0     569520         False               True    False      True        10238   \n",
       "1     750365         False              False    False     False        10238   \n",
       "2     199901         False               True    False     False        10238   \n",
       "3     478866         False               True    False      True        32765   \n",
       "4     731664         False               True    False     False        32765   \n",
       "...      ...           ...                ...      ...       ...          ...   \n",
       "9995  323164         False               True    False     False        10238   \n",
       "9996  910346         False               True    False      True        32765   \n",
       "9997  468409         False               True    False      True        10238   \n",
       "9998  903459         False              False    False      True        10238   \n",
       "9999  442696         False               True     True      True        10238   \n",
       "\n",
       "      annual_mileage  speeding_violations  DUIs  past_accidents  outcome  \n",
       "0            12000.0                    0     0               0        0  \n",
       "1            16000.0                    0     0               0        1  \n",
       "2            11000.0                    0     0               0        0  \n",
       "3            11000.0                    0     0               0        0  \n",
       "4            12000.0                    2     0               1        1  \n",
       "...              ...                  ...   ...             ...      ...  \n",
       "9995         16000.0                    0     0               1        0  \n",
       "9996             NaN                    1     0               0        0  \n",
       "9997         14000.0                    0     0               0        0  \n",
       "9998         13000.0                    2     0               1        1  \n",
       "9999         13000.0                    0     0               0        0  \n",
       "\n",
       "[10000 rows x 11 columns]"
      ]
     },
     "execution_count": 89,
     "metadata": {},
     "output_type": "execute_result"
    }
   ],
   "source": [
    "df_num = df.select_dtypes(exclude=object)\n",
    "df_num"
   ]
  },
  {
   "cell_type": "code",
   "execution_count": 90,
   "metadata": {
    "colab": {
     "base_uri": "https://localhost:8080/"
    },
    "id": "VCLytEEdC5p_",
    "outputId": "d9c2e106-96f8-4438-f6d1-f3b9a73c1a30"
   },
   "outputs": [
    {
     "data": {
      "text/plain": [
       "IterativeImputer()"
      ]
     },
     "execution_count": 90,
     "metadata": {},
     "output_type": "execute_result"
    }
   ],
   "source": [
    "ITM = IterativeImputer()\n",
    "ITM.fit(df_num)"
   ]
  },
  {
   "cell_type": "code",
   "execution_count": 91,
   "metadata": {
    "id": "PccKBBzzC5qA"
   },
   "outputs": [],
   "source": [
    "df_num = pd.DataFrame(ITM.transform(df_num))"
   ]
  },
  {
   "cell_type": "code",
   "execution_count": 92,
   "metadata": {
    "id": "W-lNsXh_C5qB"
   },
   "outputs": [],
   "source": [
    "df_ = df.select_dtypes(exclude=object)\n",
    "df_num.columns = df_.columns"
   ]
  },
  {
   "cell_type": "code",
   "execution_count": 93,
   "metadata": {
    "colab": {
     "base_uri": "https://localhost:8080/"
    },
    "id": "X4WNRwzFC5qC",
    "outputId": "4d9c72cb-584a-4b20-8e6f-e4fa45caa2cf"
   },
   "outputs": [
    {
     "name": "stdout",
     "output_type": "stream",
     "text": [
      "<class 'pandas.core.frame.DataFrame'>\n",
      "RangeIndex: 10000 entries, 0 to 9999\n",
      "Data columns (total 11 columns):\n",
      " #   Column               Non-Null Count  Dtype  \n",
      "---  ------               --------------  -----  \n",
      " 0   id                   10000 non-null  float64\n",
      " 1   credit_score         10000 non-null  float64\n",
      " 2   vehicle_ownership    10000 non-null  float64\n",
      " 3   married              10000 non-null  float64\n",
      " 4   children             10000 non-null  float64\n",
      " 5   postal_code          10000 non-null  float64\n",
      " 6   annual_mileage       10000 non-null  float64\n",
      " 7   speeding_violations  10000 non-null  float64\n",
      " 8   DUIs                 10000 non-null  float64\n",
      " 9   past_accidents       10000 non-null  float64\n",
      " 10  outcome              10000 non-null  float64\n",
      "dtypes: float64(11)\n",
      "memory usage: 859.5 KB\n"
     ]
    }
   ],
   "source": [
    "df_num.info()"
   ]
  },
  {
   "cell_type": "code",
   "execution_count": 94,
   "metadata": {
    "id": "vWlYkNelC5qC"
   },
   "outputs": [],
   "source": [
    "df_cat = df.select_dtypes(object)"
   ]
  },
  {
   "cell_type": "code",
   "execution_count": 95,
   "metadata": {
    "colab": {
     "base_uri": "https://localhost:8080/",
     "height": 419
    },
    "id": "ltMzUzFOC5qD",
    "outputId": "d969305c-279c-4a51-ec49-37c14b9e71fa"
   },
   "outputs": [
    {
     "data": {
      "text/html": [
       "<div>\n",
       "<style scoped>\n",
       "    .dataframe tbody tr th:only-of-type {\n",
       "        vertical-align: middle;\n",
       "    }\n",
       "\n",
       "    .dataframe tbody tr th {\n",
       "        vertical-align: top;\n",
       "    }\n",
       "\n",
       "    .dataframe thead th {\n",
       "        text-align: right;\n",
       "    }\n",
       "</style>\n",
       "<table border=\"1\" class=\"dataframe\">\n",
       "  <thead>\n",
       "    <tr style=\"text-align: right;\">\n",
       "      <th></th>\n",
       "      <th>age</th>\n",
       "      <th>gender</th>\n",
       "      <th>race</th>\n",
       "      <th>driving_experience</th>\n",
       "      <th>education</th>\n",
       "      <th>income</th>\n",
       "      <th>vehicle_year</th>\n",
       "      <th>vehicle_type</th>\n",
       "    </tr>\n",
       "  </thead>\n",
       "  <tbody>\n",
       "    <tr>\n",
       "      <th>0</th>\n",
       "      <td>65+</td>\n",
       "      <td>female</td>\n",
       "      <td>majority</td>\n",
       "      <td>0-9y</td>\n",
       "      <td>high school</td>\n",
       "      <td>upper class</td>\n",
       "      <td>after 2015</td>\n",
       "      <td>sedan</td>\n",
       "    </tr>\n",
       "    <tr>\n",
       "      <th>1</th>\n",
       "      <td>16-25</td>\n",
       "      <td>male</td>\n",
       "      <td>majority</td>\n",
       "      <td>0-9y</td>\n",
       "      <td>none</td>\n",
       "      <td>poverty</td>\n",
       "      <td>before 2015</td>\n",
       "      <td>sedan</td>\n",
       "    </tr>\n",
       "    <tr>\n",
       "      <th>2</th>\n",
       "      <td>16-25</td>\n",
       "      <td>female</td>\n",
       "      <td>majority</td>\n",
       "      <td>0-9y</td>\n",
       "      <td>high school</td>\n",
       "      <td>working class</td>\n",
       "      <td>before 2015</td>\n",
       "      <td>sedan</td>\n",
       "    </tr>\n",
       "    <tr>\n",
       "      <th>3</th>\n",
       "      <td>16-25</td>\n",
       "      <td>male</td>\n",
       "      <td>majority</td>\n",
       "      <td>0-9y</td>\n",
       "      <td>university</td>\n",
       "      <td>working class</td>\n",
       "      <td>before 2015</td>\n",
       "      <td>sedan</td>\n",
       "    </tr>\n",
       "    <tr>\n",
       "      <th>4</th>\n",
       "      <td>26-39</td>\n",
       "      <td>male</td>\n",
       "      <td>majority</td>\n",
       "      <td>10-19y</td>\n",
       "      <td>none</td>\n",
       "      <td>working class</td>\n",
       "      <td>before 2015</td>\n",
       "      <td>sedan</td>\n",
       "    </tr>\n",
       "    <tr>\n",
       "      <th>...</th>\n",
       "      <td>...</td>\n",
       "      <td>...</td>\n",
       "      <td>...</td>\n",
       "      <td>...</td>\n",
       "      <td>...</td>\n",
       "      <td>...</td>\n",
       "      <td>...</td>\n",
       "      <td>...</td>\n",
       "    </tr>\n",
       "    <tr>\n",
       "      <th>9995</th>\n",
       "      <td>26-39</td>\n",
       "      <td>female</td>\n",
       "      <td>majority</td>\n",
       "      <td>10-19y</td>\n",
       "      <td>university</td>\n",
       "      <td>upper class</td>\n",
       "      <td>before 2015</td>\n",
       "      <td>sedan</td>\n",
       "    </tr>\n",
       "    <tr>\n",
       "      <th>9996</th>\n",
       "      <td>26-39</td>\n",
       "      <td>female</td>\n",
       "      <td>majority</td>\n",
       "      <td>10-19y</td>\n",
       "      <td>none</td>\n",
       "      <td>middle class</td>\n",
       "      <td>after 2015</td>\n",
       "      <td>sedan</td>\n",
       "    </tr>\n",
       "    <tr>\n",
       "      <th>9997</th>\n",
       "      <td>26-39</td>\n",
       "      <td>male</td>\n",
       "      <td>majority</td>\n",
       "      <td>0-9y</td>\n",
       "      <td>high school</td>\n",
       "      <td>middle class</td>\n",
       "      <td>before 2015</td>\n",
       "      <td>sedan</td>\n",
       "    </tr>\n",
       "    <tr>\n",
       "      <th>9998</th>\n",
       "      <td>26-39</td>\n",
       "      <td>female</td>\n",
       "      <td>majority</td>\n",
       "      <td>10-19y</td>\n",
       "      <td>high school</td>\n",
       "      <td>poverty</td>\n",
       "      <td>before 2015</td>\n",
       "      <td>sedan</td>\n",
       "    </tr>\n",
       "    <tr>\n",
       "      <th>9999</th>\n",
       "      <td>26-39</td>\n",
       "      <td>female</td>\n",
       "      <td>majority</td>\n",
       "      <td>0-9y</td>\n",
       "      <td>none</td>\n",
       "      <td>working class</td>\n",
       "      <td>before 2015</td>\n",
       "      <td>sedan</td>\n",
       "    </tr>\n",
       "  </tbody>\n",
       "</table>\n",
       "<p>10000 rows × 8 columns</p>\n",
       "</div>"
      ],
      "text/plain": [
       "        age  gender      race driving_experience    education         income  \\\n",
       "0       65+  female  majority               0-9y  high school    upper class   \n",
       "1     16-25    male  majority               0-9y         none        poverty   \n",
       "2     16-25  female  majority               0-9y  high school  working class   \n",
       "3     16-25    male  majority               0-9y   university  working class   \n",
       "4     26-39    male  majority             10-19y         none  working class   \n",
       "...     ...     ...       ...                ...          ...            ...   \n",
       "9995  26-39  female  majority             10-19y   university    upper class   \n",
       "9996  26-39  female  majority             10-19y         none   middle class   \n",
       "9997  26-39    male  majority               0-9y  high school   middle class   \n",
       "9998  26-39  female  majority             10-19y  high school        poverty   \n",
       "9999  26-39  female  majority               0-9y         none  working class   \n",
       "\n",
       "     vehicle_year vehicle_type  \n",
       "0      after 2015        sedan  \n",
       "1     before 2015        sedan  \n",
       "2     before 2015        sedan  \n",
       "3     before 2015        sedan  \n",
       "4     before 2015        sedan  \n",
       "...           ...          ...  \n",
       "9995  before 2015        sedan  \n",
       "9996   after 2015        sedan  \n",
       "9997  before 2015        sedan  \n",
       "9998  before 2015        sedan  \n",
       "9999  before 2015        sedan  \n",
       "\n",
       "[10000 rows x 8 columns]"
      ]
     },
     "execution_count": 95,
     "metadata": {},
     "output_type": "execute_result"
    }
   ],
   "source": [
    "df_cat"
   ]
  },
  {
   "cell_type": "code",
   "execution_count": 96,
   "metadata": {
    "id": "fsKER3ueC5qE"
   },
   "outputs": [],
   "source": [
    "##Encoding the categorical data"
   ]
  },
  {
   "cell_type": "code",
   "execution_count": 97,
   "metadata": {
    "id": "3ICnQdUlC5qF"
   },
   "outputs": [],
   "source": [
    "from sklearn.preprocessing import LabelEncoder"
   ]
  },
  {
   "cell_type": "code",
   "execution_count": 98,
   "metadata": {
    "id": "CaXm8CRpC5qG"
   },
   "outputs": [],
   "source": [
    "encoder =  LabelEncoder()"
   ]
  },
  {
   "cell_type": "code",
   "execution_count": 99,
   "metadata": {
    "id": "EasXa0lnC5qQ"
   },
   "outputs": [],
   "source": [
    "for col in df_cat:\n",
    "    df_cat[col] = encoder.fit_transform(df_cat[col])"
   ]
  },
  {
   "cell_type": "code",
   "execution_count": 100,
   "metadata": {
    "colab": {
     "base_uri": "https://localhost:8080/"
    },
    "id": "trR8KV0jC5qR",
    "outputId": "65540e97-2ff5-486b-e92f-e3c30962ee22"
   },
   "outputs": [
    {
     "name": "stdout",
     "output_type": "stream",
     "text": [
      "<class 'pandas.core.frame.DataFrame'>\n",
      "RangeIndex: 10000 entries, 0 to 9999\n",
      "Data columns (total 8 columns):\n",
      " #   Column              Non-Null Count  Dtype\n",
      "---  ------              --------------  -----\n",
      " 0   age                 10000 non-null  int32\n",
      " 1   gender              10000 non-null  int32\n",
      " 2   race                10000 non-null  int32\n",
      " 3   driving_experience  10000 non-null  int32\n",
      " 4   education           10000 non-null  int32\n",
      " 5   income              10000 non-null  int32\n",
      " 6   vehicle_year        10000 non-null  int32\n",
      " 7   vehicle_type        10000 non-null  int32\n",
      "dtypes: int32(8)\n",
      "memory usage: 312.6 KB\n"
     ]
    }
   ],
   "source": [
    "df_cat.info()"
   ]
  },
  {
   "cell_type": "code",
   "execution_count": 101,
   "metadata": {
    "id": "aEMMi6yeC5qR"
   },
   "outputs": [],
   "source": [
    "##Post encoding we merge both the numerical and categorical dataset together\n",
    "\n",
    "df_new = pd.concat([df_num,df_cat],axis=1)"
   ]
  },
  {
   "cell_type": "code",
   "execution_count": 102,
   "metadata": {
    "colab": {
     "base_uri": "https://localhost:8080/"
    },
    "id": "ZtQmXBfhC5qS",
    "outputId": "ed2ab6c3-9693-44cc-c6fe-5f07ac14981c"
   },
   "outputs": [
    {
     "name": "stdout",
     "output_type": "stream",
     "text": [
      "<class 'pandas.core.frame.DataFrame'>\n",
      "RangeIndex: 10000 entries, 0 to 9999\n",
      "Data columns (total 19 columns):\n",
      " #   Column               Non-Null Count  Dtype  \n",
      "---  ------               --------------  -----  \n",
      " 0   id                   10000 non-null  float64\n",
      " 1   credit_score         10000 non-null  float64\n",
      " 2   vehicle_ownership    10000 non-null  float64\n",
      " 3   married              10000 non-null  float64\n",
      " 4   children             10000 non-null  float64\n",
      " 5   postal_code          10000 non-null  float64\n",
      " 6   annual_mileage       10000 non-null  float64\n",
      " 7   speeding_violations  10000 non-null  float64\n",
      " 8   DUIs                 10000 non-null  float64\n",
      " 9   past_accidents       10000 non-null  float64\n",
      " 10  outcome              10000 non-null  float64\n",
      " 11  age                  10000 non-null  int32  \n",
      " 12  gender               10000 non-null  int32  \n",
      " 13  race                 10000 non-null  int32  \n",
      " 14  driving_experience   10000 non-null  int32  \n",
      " 15  education            10000 non-null  int32  \n",
      " 16  income               10000 non-null  int32  \n",
      " 17  vehicle_year         10000 non-null  int32  \n",
      " 18  vehicle_type         10000 non-null  int32  \n",
      "dtypes: float64(11), int32(8)\n",
      "memory usage: 1.1 MB\n"
     ]
    }
   ],
   "source": [
    "df_new.info()"
   ]
  },
  {
   "cell_type": "code",
   "execution_count": 103,
   "metadata": {
    "id": "fD5VN6wXC5qS"
   },
   "outputs": [],
   "source": [
    "##Scaling "
   ]
  },
  {
   "cell_type": "code",
   "execution_count": 104,
   "metadata": {
    "id": "_4cFGVCMC5qT"
   },
   "outputs": [],
   "source": [
    "def standardization(X):\n",
    "    X - np.mean(X) / np.std(X)\n",
    "    return X"
   ]
  },
  {
   "cell_type": "code",
   "execution_count": 105,
   "metadata": {
    "id": "2ntiuhWxC5qT"
   },
   "outputs": [],
   "source": [
    "df_new = standardization(df_new)"
   ]
  },
  {
   "cell_type": "code",
   "execution_count": 106,
   "metadata": {
    "id": "L_OEysuuC5qU"
   },
   "outputs": [],
   "source": [
    "##Checking correalation between features. "
   ]
  },
  {
   "cell_type": "code",
   "execution_count": 107,
   "metadata": {
    "colab": {
     "base_uri": "https://localhost:8080/"
    },
    "id": "dpl29LPeC5qU",
    "outputId": "8a59be91-9f53-4a29-bf9a-c756c1ce4174"
   },
   "outputs": [
    {
     "data": {
      "text/plain": [
       "outcome                1.000000\n",
       "vehicle_year           0.294178\n",
       "annual_mileage         0.194898\n",
       "gender                 0.107208\n",
       "postal_code            0.095889\n",
       "credit_score           0.061929\n",
       "race                   0.008280\n",
       "vehicle_type           0.005620\n",
       "id                    -0.010506\n",
       "income                -0.047560\n",
       "education             -0.092643\n",
       "DUIs                  -0.189352\n",
       "children              -0.232835\n",
       "married               -0.262104\n",
       "speeding_violations   -0.291862\n",
       "past_accidents        -0.311495\n",
       "vehicle_ownership     -0.378921\n",
       "age                   -0.448463\n",
       "driving_experience    -0.497431\n",
       "Name: outcome, dtype: float64"
      ]
     },
     "execution_count": 107,
     "metadata": {},
     "output_type": "execute_result"
    }
   ],
   "source": [
    "corr_matrix = df_new.corr()\n",
    "corr_matrix['outcome'].sort_values(ascending=False)"
   ]
  },
  {
   "cell_type": "code",
   "execution_count": 108,
   "metadata": {
    "colab": {
     "base_uri": "https://localhost:8080/",
     "height": 701
    },
    "id": "VzOUuw8AC5qV",
    "outputId": "889917b4-ae5c-41f1-980c-2a2eac7bec2c"
   },
   "outputs": [
    {
     "data": {
      "text/plain": [
       "<matplotlib.axes._subplots.AxesSubplot at 0x23ff1ba4160>"
      ]
     },
     "execution_count": 108,
     "metadata": {},
     "output_type": "execute_result"
    },
    {
     "data": {
      "image/png": "[encoded data removed]",
      "text/plain": [
       "<Figure size 720x720 with 2 Axes>"
      ]
     },
     "metadata": {
      "needs_background": "light"
     },
     "output_type": "display_data"
    }
   ],
   "source": [
    "plt.figure(figsize=(10,10))\n",
    "sns.heatmap(df.corr(),annot=True)"
   ]
  },
  {
   "cell_type": "code",
   "execution_count": 109,
   "metadata": {
    "id": "BEFVuzOPC5qV"
   },
   "outputs": [],
   "source": [
    "##Splitting the data to serve to a model"
   ]
  },
  {
   "cell_type": "code",
   "execution_count": 110,
   "metadata": {
    "id": "AQ9FYVVvC5qV"
   },
   "outputs": [],
   "source": [
    "from sklearn.model_selection import train_test_split"
   ]
  },
  {
   "cell_type": "code",
   "execution_count": 111,
   "metadata": {
    "id": "4U2r03g3C5qW"
   },
   "outputs": [],
   "source": [
    "X = df_new.drop('outcome',axis=1)\n",
    "y = df_new['outcome']\n",
    "\n",
    "X_train,X_test,y_train,y_test = train_test_split(X,y,test_size=0.3,random_state=1)"
   ]
  },
  {
   "cell_type": "code",
   "execution_count": 112,
   "metadata": {
    "id": "8z1ZvevLC5qY"
   },
   "outputs": [],
   "source": [
    "##Fitting data to model and predicting the results"
   ]
  },
  {
   "cell_type": "code",
   "execution_count": 113,
   "metadata": {
    "id": "lJVbl3cVC5qZ"
   },
   "outputs": [],
   "source": [
    "from sklearn.ensemble import GradientBoostingClassifier\n",
    "from sklearn.metrics import classification_report,accuracy_score,precision_score,recall_score"
   ]
  },
  {
   "cell_type": "code",
   "execution_count": 114,
   "metadata": {
    "id": "QphHXk4tC5qZ"
   },
   "outputs": [],
   "source": [
    "Gb = GradientBoostingClassifier(learning_rate=0.1,n_estimators=150)\n",
    "\n",
    "Gb.fit(X_train,y_train)\n",
    "\n",
    "y_predicted = Gb.predict(X_test)"
   ]
  },
  {
   "cell_type": "code",
   "execution_count": 115,
   "metadata": {
    "id": "jGty5vv0C5qa"
   },
   "outputs": [],
   "source": [
    "##We detect the classification report accuracy,precision and recall as confusion matrix"
   ]
  },
  {
   "cell_type": "code",
   "execution_count": 116,
   "metadata": {
    "colab": {
     "base_uri": "https://localhost:8080/"
    },
    "id": "jMyaVmk3C5qa",
    "outputId": "ae2aeffc-b79c-45ca-fc75-edb8a76cb52c"
   },
   "outputs": [
    {
     "name": "stdout",
     "output_type": "stream",
     "text": [
      "              precision    recall  f1-score   support\n",
      "\n",
      "         0.0       0.90      0.89      0.90      2109\n",
      "         1.0       0.75      0.77      0.76       891\n",
      "\n",
      "    accuracy                           0.85      3000\n",
      "   macro avg       0.82      0.83      0.83      3000\n",
      "weighted avg       0.86      0.85      0.86      3000\n",
      "\n"
     ]
    }
   ],
   "source": [
    "print(classification_report(y_test,y_predicted))"
   ]
  },
  {
   "cell_type": "code",
   "execution_count": 117,
   "metadata": {
    "colab": {
     "base_uri": "https://localhost:8080/"
    },
    "id": "k9FMd303C5qc",
    "outputId": "82dd3270-e64e-4dd2-fc5e-74ba47447b98"
   },
   "outputs": [
    {
     "name": "stdout",
     "output_type": "stream",
     "text": [
      "Accuracy Score: 0.855\n",
      "precision Score: 0.7467532467532467\n",
      "recall Score: 0.7744107744107744\n"
     ]
    }
   ],
   "source": [
    "print('Accuracy Score:',accuracy_score(y_test,y_predicted))\n",
    "print('precision Score:',precision_score(y_test,y_predicted))\n",
    "print('recall Score:',recall_score(y_test,y_predicted))    "
   ]
  },
  {
   "cell_type": "markdown",
   "metadata": {
    "id": "PHAq3ZgJC5qd"
   },
   "source": [
    "Gb is object of Gradient Boost Classifier. The upcoming testing data that should be an array of \n",
    "customer's featurewise properties and when predict that array using Gb object resultant it return 1 or 0 as class of customer "
   ]
  },
  {
   "cell_type": "code",
   "execution_count": null,
   "metadata": {
    "id": "ymvVxr2aC5qd"
   },
   "outputs": [],
   "source": []
  },
  {
   "cell_type": "code",
   "execution_count": null,
   "metadata": {
    "id": "ZV0r-WfDC5qf"
   },
   "outputs": [],
   "source": []
  },
  {
   "cell_type": "code",
   "execution_count": null,
   "metadata": {
    "id": "QFyr3u4XC5qh"
   },
   "outputs": [],
   "source": []
  }
 ],
 "metadata": {
  "colab": {
   "name": "mind_datawork.ipynb",
   "provenance": []
  },
  "kernelspec": {
   "display_name": "Python 3",
   "language": "python",
   "name": "python3"
  },
  "language_info": {
   "codemirror_mode": {
    "name": "ipython",
    "version": 3
   },
   "file_extension": ".py",
   "mimetype": "text/x-python",
   "name": "python",
   "nbconvert_exporter": "python",
   "pygments_lexer": "ipython3",
   "version": "3.8.3"
  }
 },
 "nbformat": 4,
 "nbformat_minor": 1
}
